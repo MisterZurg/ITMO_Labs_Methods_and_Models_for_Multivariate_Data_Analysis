{
 "cells": [
  {
   "cell_type": "code",
   "execution_count": 1,
   "metadata": {},
   "outputs": [],
   "source": [
    "import math\n",
    "from pomegranate import *"
   ]
  },
  {
   "cell_type": "code",
   "execution_count": 3,
   "metadata": {},
   "outputs": [],
   "source": [
    "# Initially the door selected by the guest is completely random\n",
    "guest =DiscreteDistribution( { 'A': 1./3, 'B': 1./3, 'C': 1./3 } )"
   ]
  },
  {
   "cell_type": "code",
   "execution_count": 5,
   "metadata": {},
   "outputs": [],
   "source": [
    "#The door containing the prize is also a random process\n",
    "prize =DiscreteDistribution( { 'A': 1./3, 'B': 1./3, 'C': 1./3 } )"
   ]
  },
  {
   "cell_type": "code",
   "execution_count": 6,
   "metadata": {},
   "outputs": [],
   "source": [
    "# The door Monty picks, depends on the choice of the guest and the prize door\n",
    "monty =ConditionalProbabilityTable(\n",
    "[[ 'A', 'A', 'A', 0.0 ],\n",
    "[ 'A', 'A', 'B', 0.5 ],\n",
    "[ 'A', 'A', 'C', 0.5 ],\n",
    "[ 'A', 'B', 'A', 0.0 ],\n",
    "[ 'A', 'B', 'B', 0.0 ],\n",
    "[ 'A', 'B', 'C', 1.0 ],\n",
    "[ 'A', 'C', 'A', 0.0 ],\n",
    "[ 'A', 'C', 'B', 1.0 ],\n",
    "[ 'A', 'C', 'C', 0.0 ],\n",
    "[ 'B', 'A', 'A', 0.0 ],\n",
    "[ 'B', 'A', 'B', 0.0 ],\n",
    "[ 'B', 'A', 'C', 1.0 ],\n",
    "[ 'B', 'B', 'A', 0.5 ],\n",
    "[ 'B', 'B', 'B', 0.0 ],\n",
    "[ 'B', 'B', 'C', 0.5 ],\n",
    "[ 'B', 'C', 'A', 1.0 ],\n",
    "[ 'B', 'C', 'B', 0.0 ],\n",
    "[ 'B', 'C', 'C', 0.0 ],\n",
    "[ 'C', 'A', 'A', 0.0 ],\n",
    "[ 'C', 'A', 'B', 1.0 ],\n",
    "[ 'C', 'A', 'C', 0.0 ],\n",
    "[ 'C', 'B', 'A', 1.0 ],\n",
    "[ 'C', 'B', 'B', 0.0 ],\n",
    "[ 'C', 'B', 'C', 0.0 ],\n",
    "[ 'C', 'C', 'A', 0.5 ],\n",
    "[ 'C', 'C', 'B', 0.5 ],\n",
    "[ 'C', 'C', 'C', 0.0 ]], [guest, prize] )"
   ]
  },
  {
   "cell_type": "code",
   "execution_count": 7,
   "metadata": {},
   "outputs": [],
   "source": [
    "d1 = State( guest, name=\"guest\" )\n",
    "d2 = State( prize, name=\"prize\" )\n",
    "d3 = State( monty, name=\"monty\" )"
   ]
  },
  {
   "cell_type": "code",
   "execution_count": 8,
   "metadata": {},
   "outputs": [],
   "source": [
    "#Building the Bayesian Network\n",
    "network = BayesianNetwork( \"Solving the Monty Hall Problem With Bayesian Networks\" )\n",
    "network.add_states(d1, d2, d3)\n",
    "network.add_edge(d1, d3)\n",
    "network.add_edge(d2, d3)\n",
    "network.bake()"
   ]
  },
  {
   "cell_type": "code",
   "execution_count": 11,
   "metadata": {},
   "outputs": [
    {
     "name": "stdout",
     "output_type": "stream",
     "text": [
      "guesttAnprizet{\n",
      "    \"class\" :\"Distribution\",\n",
      "    \"dtype\" :\"str\",\n",
      "    \"name\" :\"DiscreteDistribution\",\n",
      "    \"parameters\" :[\n",
      "        {\n",
      "            \"A\" :0.3333333333333333,\n",
      "            \"B\" :0.3333333333333333,\n",
      "            \"C\" :0.3333333333333333\n",
      "        }\n",
      "    ],\n",
      "    \"frozen\" :false\n",
      "}nmontyt{\n",
      "    \"class\" :\"Distribution\",\n",
      "    \"dtype\" :\"str\",\n",
      "    \"name\" :\"DiscreteDistribution\",\n",
      "    \"parameters\" :[\n",
      "        {\n",
      "            \"B\" :0.49999999999999983,\n",
      "            \"A\" :0.0,\n",
      "            \"C\" :0.49999999999999983\n",
      "        }\n",
      "    ],\n",
      "    \"frozen\" :false\n",
      "}\n"
     ]
    }
   ],
   "source": [
    "beliefs = network.predict_proba({ 'guest' : 'A' })\n",
    "beliefs = map(str, beliefs)\n",
    "print(\"n\".join( \"{}t{}\".format( state.name, belief ) for state, belief in zip( network.states, beliefs ) ))\n"
   ]
  },
  {
   "cell_type": "code",
   "execution_count": 12,
   "metadata": {},
   "outputs": [
    {
     "name": "stdout",
     "output_type": "stream",
     "text": [
      "guesttAnprizet{\n",
      "    \"class\" :\"Distribution\",\n",
      "    \"dtype\" :\"str\",\n",
      "    \"name\" :\"DiscreteDistribution\",\n",
      "    \"parameters\" :[\n",
      "        {\n",
      "            \"A\" :0.3333333333333334,\n",
      "            \"B\" :0.0,\n",
      "            \"C\" :0.6666666666666664\n",
      "        }\n",
      "    ],\n",
      "    \"frozen\" :false\n",
      "}nmontytB\n"
     ]
    }
   ],
   "source": [
    "beliefs = network.predict_proba({'guest' : 'A', 'monty' : 'B'})\n",
    "print(\"n\".join( \"{}t{}\".format( state.name, str(belief) ) for state, belief in zip( network.states, beliefs )))\n",
    " \n",
    "\n"
   ]
  },
  {
   "cell_type": "code",
   "execution_count": null,
   "metadata": {},
   "outputs": [],
   "source": []
  }
 ],
 "metadata": {
  "file_extension": ".py",
  "kernelspec": {
   "display_name": "Python 3.8.2 64-bit",
   "language": "python",
   "name": "python3"
  },
  "language_info": {
   "codemirror_mode": {
    "name": "ipython",
    "version": 3
   },
   "name": "python",
   "version": "3.8.2"
  },
  "mimetype": "text/x-python",
  "name": "python",
  "npconvert_exporter": "python",
  "orig_nbformat": 2,
  "pygments_lexer": "ipython3",
  "version": 3,
  "vscode": {
   "interpreter": {
    "hash": "570feb405e2e27c949193ac68f46852414290d515b0ba6e5d90d076ed2284471"
   }
  }
 },
 "nbformat": 4,
 "nbformat_minor": 2
}
