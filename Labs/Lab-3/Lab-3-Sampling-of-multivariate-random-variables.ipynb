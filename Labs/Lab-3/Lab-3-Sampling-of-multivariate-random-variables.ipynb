{
 "cells": [
  {
   "cell_type": "markdown",
   "source": [
    "# Sampling of multivariate random variables"
   ],
   "metadata": {
    "collapsed": false
   }
  },
  {
   "cell_type": "code",
   "source": [
    "import networkx as nx\n",
    "\n",
    "import pandas as pd\n",
    "import numpy as np\n",
    "from scipy import stats\n",
    "from scipy.optimize import least_squares\n",
    "import seaborn as sns\n",
    "import scipy\n",
    "\n",
    "from pgmpy.estimators import HillClimbSearch, K2Score, BicScore, BDeuScore, BDsScore, TreeSearch\n",
    "from pgmpy.models import BayesianModel\n",
    "from pgmpy.sampling import BayesianModelSampling\n",
    "from sklearn.preprocessing import KBinsDiscretizer\n",
    "from sklearn.model_selection import train_test_split\n",
    "\n",
    "import plotly.express as px\n",
    "import plotly.figure_factory as ff\n",
    "import matplotlib.pyplot as plt\n",
    "\n",
    "import warnings\n",
    "warnings.filterwarnings('ignore')"
   ],
   "execution_count": 170,
   "outputs": [],
   "metadata": {
    "datalore": {
     "node_id": "v3DJFiSTpy8Kx4MlGg7Huv",
     "type": "CODE",
     "hide_input_from_viewers": false,
     "hide_output_from_viewers": false
    }
   }
  },
  {
   "cell_type": "code",
   "source": [
    "df = pd.read_csv('games.csv')"
   ],
   "execution_count": 172,
   "outputs": [],
   "metadata": {
    "datalore": {
     "node_id": "dTDOkrhd49VP6IwvWjcCS2",
     "type": "CODE",
     "hide_input_from_viewers": false,
     "hide_output_from_viewers": false
    }
   }
  },
  {
   "cell_type": "code",
   "source": [
    "df.columns = df.columns.str.lower()"
   ],
   "execution_count": 173,
   "outputs": [],
   "metadata": {
    "datalore": {
     "node_id": "sTydZkPiC7CTJ08d1QXFmc",
     "type": "CODE",
     "hide_input_from_viewers": false,
     "hide_output_from_viewers": false
    }
   }
  },
  {
   "cell_type": "code",
   "source": [
    "# Удаляем отсутствующие значения столбца year_of_release. Восстанавлявать столь малый процент (1.61) не имеет смысла.\n",
    "df = df.dropna(subset=['year_of_release'])\n",
    "df['year_of_release'] = df['year_of_release'].astype(np.int64)\n",
    "\n",
    "# По тем же причинам удаляем строки с отсутвием названия игры\n",
    "df = df.dropna(subset=['name'])"
   ],
   "execution_count": 174,
   "outputs": [],
   "metadata": {
    "datalore": {
     "node_id": "RaVFLpy4Yak1Vf6gQZ7dWd",
     "type": "CODE",
     "hide_input_from_viewers": false,
     "hide_output_from_viewers": false
    }
   }
  },
  {
   "cell_type": "code",
   "source": [
    "df.loc[df['user_score'] == 'tbd', 'user_score'] = 'unknown'\n",
    "df = df.fillna('unknown')"
   ],
   "execution_count": 175,
   "outputs": [],
   "metadata": {
    "datalore": {
     "node_id": "9VRhygbO2Pr0eFTeerMplK",
     "type": "CODE",
     "hide_input_from_viewers": false,
     "hide_output_from_viewers": false
    }
   }
  },
  {
   "cell_type": "code",
   "source": [
    "# df['world_sales'] = df['na_sales'] + df['eu_sales'] + df['jp_sales'] + df['other_sales']"
   ],
   "execution_count": 176,
   "outputs": [],
   "metadata": {
    "datalore": {
     "node_id": "rsort4WcN1IQbUJWkXOSy5",
     "type": "CODE",
     "hide_input_from_viewers": false,
     "hide_output_from_viewers": false
    }
   }
  },
  {
   "cell_type": "markdown",
   "source": [
    "## **Step 1**. Choose variables for sampling from your dataset (overall – about 10 variables, 3-4 – target variables, the rest - predictors)."
   ],
   "attachments": {},
   "metadata": {
    "datalore": {
     "node_id": "dPsOe065b7OheBiUuyd0ta",
     "type": "MD",
     "hide_input_from_viewers": false,
     "hide_output_from_viewers": false
    }
   }
  },
  {
   "cell_type": "code",
   "source": [
    "df"
   ],
   "execution_count": 177,
   "outputs": [
    {
     "data": {
      "text/html": [
       "<div>\n",
       "<style scoped>\n",
       "    .dataframe tbody tr th:only-of-type {\n",
       "        vertical-align: middle;\n",
       "    }\n",
       "\n",
       "    .dataframe tbody tr th {\n",
       "        vertical-align: top;\n",
       "    }\n",
       "\n",
       "    .dataframe thead th {\n",
       "        text-align: right;\n",
       "    }\n",
       "</style>\n",
       "<table border=\"1\" class=\"dataframe\">\n",
       "  <thead>\n",
       "    <tr style=\"text-align: right;\">\n",
       "      <th></th>\n",
       "      <th>name</th>\n",
       "      <th>platform</th>\n",
       "      <th>year_of_release</th>\n",
       "      <th>genre</th>\n",
       "      <th>na_sales</th>\n",
       "      <th>eu_sales</th>\n",
       "      <th>jp_sales</th>\n",
       "      <th>other_sales</th>\n",
       "      <th>critic_score</th>\n",
       "      <th>user_score</th>\n",
       "      <th>rating</th>\n",
       "    </tr>\n",
       "  </thead>\n",
       "  <tbody>\n",
       "    <tr>\n",
       "      <th>0</th>\n",
       "      <td>Wii Sports</td>\n",
       "      <td>Wii</td>\n",
       "      <td>2006</td>\n",
       "      <td>Sports</td>\n",
       "      <td>41.36</td>\n",
       "      <td>28.96</td>\n",
       "      <td>3.77</td>\n",
       "      <td>8.45</td>\n",
       "      <td>76.0</td>\n",
       "      <td>8</td>\n",
       "      <td>E</td>\n",
       "    </tr>\n",
       "    <tr>\n",
       "      <th>1</th>\n",
       "      <td>Super Mario Bros.</td>\n",
       "      <td>NES</td>\n",
       "      <td>1985</td>\n",
       "      <td>Platform</td>\n",
       "      <td>29.08</td>\n",
       "      <td>3.58</td>\n",
       "      <td>6.81</td>\n",
       "      <td>0.77</td>\n",
       "      <td>unknown</td>\n",
       "      <td>unknown</td>\n",
       "      <td>unknown</td>\n",
       "    </tr>\n",
       "    <tr>\n",
       "      <th>2</th>\n",
       "      <td>Mario Kart Wii</td>\n",
       "      <td>Wii</td>\n",
       "      <td>2008</td>\n",
       "      <td>Racing</td>\n",
       "      <td>15.68</td>\n",
       "      <td>12.76</td>\n",
       "      <td>3.79</td>\n",
       "      <td>3.29</td>\n",
       "      <td>82.0</td>\n",
       "      <td>8.3</td>\n",
       "      <td>E</td>\n",
       "    </tr>\n",
       "    <tr>\n",
       "      <th>3</th>\n",
       "      <td>Wii Sports Resort</td>\n",
       "      <td>Wii</td>\n",
       "      <td>2009</td>\n",
       "      <td>Sports</td>\n",
       "      <td>15.61</td>\n",
       "      <td>10.93</td>\n",
       "      <td>3.28</td>\n",
       "      <td>2.95</td>\n",
       "      <td>80.0</td>\n",
       "      <td>8</td>\n",
       "      <td>E</td>\n",
       "    </tr>\n",
       "    <tr>\n",
       "      <th>4</th>\n",
       "      <td>Pokemon Red/Pokemon Blue</td>\n",
       "      <td>GB</td>\n",
       "      <td>1996</td>\n",
       "      <td>Role-Playing</td>\n",
       "      <td>11.27</td>\n",
       "      <td>8.89</td>\n",
       "      <td>10.22</td>\n",
       "      <td>1.00</td>\n",
       "      <td>unknown</td>\n",
       "      <td>unknown</td>\n",
       "      <td>unknown</td>\n",
       "    </tr>\n",
       "    <tr>\n",
       "      <th>...</th>\n",
       "      <td>...</td>\n",
       "      <td>...</td>\n",
       "      <td>...</td>\n",
       "      <td>...</td>\n",
       "      <td>...</td>\n",
       "      <td>...</td>\n",
       "      <td>...</td>\n",
       "      <td>...</td>\n",
       "      <td>...</td>\n",
       "      <td>...</td>\n",
       "      <td>...</td>\n",
       "    </tr>\n",
       "    <tr>\n",
       "      <th>16710</th>\n",
       "      <td>Samurai Warriors: Sanada Maru</td>\n",
       "      <td>PS3</td>\n",
       "      <td>2016</td>\n",
       "      <td>Action</td>\n",
       "      <td>0.00</td>\n",
       "      <td>0.00</td>\n",
       "      <td>0.01</td>\n",
       "      <td>0.00</td>\n",
       "      <td>unknown</td>\n",
       "      <td>unknown</td>\n",
       "      <td>unknown</td>\n",
       "    </tr>\n",
       "    <tr>\n",
       "      <th>16711</th>\n",
       "      <td>LMA Manager 2007</td>\n",
       "      <td>X360</td>\n",
       "      <td>2006</td>\n",
       "      <td>Sports</td>\n",
       "      <td>0.00</td>\n",
       "      <td>0.01</td>\n",
       "      <td>0.00</td>\n",
       "      <td>0.00</td>\n",
       "      <td>unknown</td>\n",
       "      <td>unknown</td>\n",
       "      <td>unknown</td>\n",
       "    </tr>\n",
       "    <tr>\n",
       "      <th>16712</th>\n",
       "      <td>Haitaka no Psychedelica</td>\n",
       "      <td>PSV</td>\n",
       "      <td>2016</td>\n",
       "      <td>Adventure</td>\n",
       "      <td>0.00</td>\n",
       "      <td>0.00</td>\n",
       "      <td>0.01</td>\n",
       "      <td>0.00</td>\n",
       "      <td>unknown</td>\n",
       "      <td>unknown</td>\n",
       "      <td>unknown</td>\n",
       "    </tr>\n",
       "    <tr>\n",
       "      <th>16713</th>\n",
       "      <td>Spirits &amp; Spells</td>\n",
       "      <td>GBA</td>\n",
       "      <td>2003</td>\n",
       "      <td>Platform</td>\n",
       "      <td>0.01</td>\n",
       "      <td>0.00</td>\n",
       "      <td>0.00</td>\n",
       "      <td>0.00</td>\n",
       "      <td>unknown</td>\n",
       "      <td>unknown</td>\n",
       "      <td>unknown</td>\n",
       "    </tr>\n",
       "    <tr>\n",
       "      <th>16714</th>\n",
       "      <td>Winning Post 8 2016</td>\n",
       "      <td>PSV</td>\n",
       "      <td>2016</td>\n",
       "      <td>Simulation</td>\n",
       "      <td>0.00</td>\n",
       "      <td>0.00</td>\n",
       "      <td>0.01</td>\n",
       "      <td>0.00</td>\n",
       "      <td>unknown</td>\n",
       "      <td>unknown</td>\n",
       "      <td>unknown</td>\n",
       "    </tr>\n",
       "  </tbody>\n",
       "</table>\n",
       "<p>16444 rows × 11 columns</p>\n",
       "</div>"
      ]
     },
     "metadata": {},
     "output_type": "display_data"
    }
   ],
   "metadata": {
    "datalore": {
     "node_id": "REWdvTkC4YW2K8s0f8c80N",
     "type": "CODE",
     "hide_input_from_viewers": false,
     "hide_output_from_viewers": false
    }
   }
  },
  {
   "cell_type": "code",
   "source": [
    "df = df.query('user_score != \"unknown\" & rating == [\"E\", \"T\", \"M\"] & critic_score != \"unknown\"')\n",
    "df['user_score'] = df['user_score'].map(float) # astype(float)\n",
    "df['critic_score'] = df['critic_score'].map(float) # astype(float)\n",
    "# df = pd.get_dummies(df, columns=['genre', 'rating'])\n",
    "# labelencoder = LabelEncoder()\n",
    "# df['platform'] = labelencoder.fit_transform(df['platform'])"
   ],
   "execution_count": 178,
   "outputs": [],
   "metadata": {
    "datalore": {
     "node_id": "gtoJAZJcduXbefsTTIIz4L",
     "type": "CODE",
     "hide_input_from_viewers": false,
     "hide_output_from_viewers": false
    }
   }
  },
  {
   "cell_type": "code",
   "source": [
    "df.columns"
   ],
   "execution_count": 179,
   "outputs": [
    {
     "data": {
      "text/plain": [
       "Index(['name', 'platform', 'year_of_release', 'genre', 'na_sales', 'eu_sales',\n",
       "       'jp_sales', 'other_sales', 'critic_score', 'user_score', 'rating'],\n",
       "      dtype='object')"
      ]
     },
     "metadata": {},
     "output_type": "display_data"
    }
   ],
   "metadata": {
    "datalore": {
     "node_id": "3oTmRfeGnA8ye1l69m1imL",
     "type": "CODE",
     "hide_input_from_viewers": false,
     "hide_output_from_viewers": false
    }
   }
  },
  {
   "cell_type": "code",
   "source": [
    "target = df[['user_score', 'na_sales', 'other_sales']]"
   ],
   "execution_count": 180,
   "outputs": [],
   "metadata": {
    "datalore": {
     "node_id": "Xb0ShVjOEYFH7soRlzXvAi",
     "type": "CODE",
     "hide_input_from_viewers": false,
     "hide_output_from_viewers": false
    }
   }
  },
  {
   "cell_type": "code",
   "source": [
    "predictor = df[[\n",
    "    'name', 'platform', 'year_of_release', 'eu_sales',\n",
    "    'jp_sales', 'critic_score','genre', 'rating'\n",
    "    ]]"
   ],
   "execution_count": 181,
   "outputs": [],
   "metadata": {
    "datalore": {
     "node_id": "ZTiBxd4rQDbA82XYYRWvF2",
     "type": "CODE",
     "hide_input_from_viewers": false,
     "hide_output_from_viewers": false
    }
   }
  },
  {
   "cell_type": "code",
   "source": [
    "np.isinf(target).values.sum()"
   ],
   "execution_count": 182,
   "outputs": [
    {
     "data": {
      "text/plain": [
       "0"
      ]
     },
     "metadata": {},
     "output_type": "display_data"
    }
   ],
   "metadata": {
    "datalore": {
     "node_id": "3he7YEsK9upcDmLJJuu6bo",
     "type": "CODE",
     "hide_input_from_viewers": false,
     "hide_output_from_viewers": false
    }
   }
  },
  {
   "cell_type": "markdown",
   "source": [
    "## **Step 2.** Using univariate parametric distributions that were fitted in Lab#2 make sampling of chosen target variables. Use for this 2 different sampling methods."
   ],
   "attachments": {},
   "metadata": {
    "datalore": {
     "node_id": "pplx3V0imN9dLFm98cNyOI",
     "type": "MD",
     "hide_input_from_viewers": false,
     "hide_output_from_viewers": false
    }
   }
  },
  {
   "cell_type": "code",
   "source": [
    "# Random sampling\n",
    "r_sampled = df.sample(frac=0.5)"
   ],
   "execution_count": 183,
   "outputs": [],
   "metadata": {
    "datalore": {
     "node_id": "6QQRQbvzl96cw3wcmAULoP",
     "type": "CODE",
     "hide_input_from_viewers": false,
     "hide_output_from_viewers": false
    }
   }
  },
  {
   "cell_type": "code",
   "source": [
    "# Inverse Transform Sampling\n",
    "def inverse_ts(array, dist):\n",
    "    args = dist.fit(array)\n",
    "    data = np.random.uniform(size=len(array))\n",
    "    its = dist(*args)\n",
    "    its = its.ppf(data)\n",
    "    return its"
   ],
   "execution_count": 184,
   "outputs": [],
   "metadata": {
    "datalore": {
     "node_id": "gAS3r4Fw2q2RW2w78JiVHm",
     "type": "CODE",
     "hide_input_from_viewers": false,
     "hide_output_from_viewers": false
    }
   }
  },
  {
   "cell_type": "code",
   "source": [
    "its_score = inverse_ts(df['user_score'], dist=stats.gamma)\n",
    "its_na = inverse_ts(df['na_sales'], dist=stats.gamma)\n",
    "its_oth = inverse_ts(df['other_sales'], dist=stats.gamma)"
   ],
   "execution_count": 185,
   "outputs": [],
   "metadata": {
    "datalore": {
     "node_id": "wcouZOH0x1ye7wJHCBkVr9",
     "type": "CODE",
     "hide_input_from_viewers": false,
     "hide_output_from_viewers": false
    }
   }
  },
  {
   "cell_type": "code",
   "source": [
    "its_sampled = pd.DataFrame({'user_score': its_score, 'na_sales': its_na, 'other_sales': its_oth}, columns = ['user_score', 'na_sales', 'other_sales'])"
   ],
   "execution_count": 186,
   "outputs": [],
   "metadata": {
    "datalore": {
     "node_id": "hlO0JhefQx4KlHeZwddMwT",
     "type": "CODE",
     "hide_input_from_viewers": false,
     "hide_output_from_viewers": false
    }
   }
  },
  {
   "cell_type": "code",
   "source": [
    "fig, ax = plt.subplots(3, 3, figsize=(20, 20))\n",
    "sns.set_theme()\n",
    "\n",
    "ax[0, 0].set_title('Real Data')\n",
    "ax[0, 1].set_title('Random sample')\n",
    "ax[0, 2].set_title('Inverse Transform Sample')\n",
    "\n",
    "sns.kdeplot(df['user_score'], ax=ax[0, 0], x='user_score', shade=True)\n",
    "sns.kdeplot(r_sampled['user_score'], ax=ax[0, 1], x='user_score', shade=True)\n",
    "sns.kdeplot(its_score, ax=ax[0, 2], x='user_score', shade=True)\n",
    "\n",
    "sns.kdeplot(df['na_sales'], ax=ax[1, 0], x='na_sales', shade=True)\n",
    "sns.kdeplot(r_sampled['na_sales'], ax=ax[1, 1], x='na_sales', shade=True)\n",
    "sns.kdeplot(its_na, ax=ax[1, 2], x='na_sales', shade=True)\n",
    "\n",
    "sns.kdeplot(df['other_sales'], ax=ax[2, 0], x='other_sales', shade=True)\n",
    "sns.kdeplot(r_sampled['other_sales'], ax=ax[2, 1], x='other_sales', shade=True)\n",
    "sns.kdeplot(its_oth, ax=ax[2, 2], x='other_sales', shade=True)\n",
    "\n",
    "plt.show()"
   ],
   "execution_count": 187,
   "outputs": [
    {
     "data": {
      "image/png": "[encoded data removed]"
     },
     "metadata": {
      "image/png": {}
     },
     "output_type": "display_data"
    }
   ],
   "metadata": {
    "datalore": {
     "node_id": "FdKhx4Cu6W2D1Wdg6bXJ60",
     "type": "CODE",
     "hide_input_from_viewers": false,
     "hide_output_from_viewers": false
    }
   }
  },
  {
   "cell_type": "code",
   "source": [
    "# fig, ax = plt.subplots(3, 3, figsize=(20, 20))\n",
    "# sns.set_theme()\n",
    "\n",
    "# ax[0, 0].set_title('Real Data')\n",
    "# ax[0, 1].set_title('Random sample')\n",
    "# ax[0, 2].set_title('Inverse Transform Sample')\n",
    "\n",
    "# sns.histplot(df['user_score'], ax=ax[0, 0], kde=True)\n",
    "# sns.histplot(r_sampled['user_score'], ax=ax[0, 1], kde=True)\n",
    "# sns.histplot(its_score, ax=ax[0, 2], kde=True)\n",
    "\n",
    "# sns.histplot(df['na_sales'], ax=ax[1, 0], kde=True)\n",
    "# sns.histplot(r_sampled['na_sales'], ax=ax[1, 1], kde=True)\n",
    "# sns.histplot(its_na, ax=ax[1, 2],  kde=True)\n",
    "\n",
    "# sns.histplot(df['other_sales'], ax=ax[2, 0], kde=True)\n",
    "# sns.histplot(r_sampled['other_sales'], ax=ax[2, 1], kde=True)\n",
    "# sns.histplot(its_oth, ax=ax[2, 2], kde=True)"
   ],
   "execution_count": 188,
   "outputs": [],
   "metadata": {
    "datalore": {
     "node_id": "j4Fab8PUxpbKCxkCF3KY7L",
     "type": "CODE",
     "hide_input_from_viewers": false,
     "hide_output_from_viewers": false
    }
   }
  },
  {
   "cell_type": "code",
   "source": [
    "df[['user_score', 'na_sales', 'other_sales']].mean()"
   ],
   "execution_count": 189,
   "outputs": [
    {
     "data": {
      "text/html": [
       "<pre>user_score     7.229289\n",
       "na_sales       0.408088\n",
       "other_sales    0.085617\n",
       "dtype: float64</pre>"
      ]
     },
     "metadata": {},
     "output_type": "display_data"
    }
   ],
   "metadata": {
    "datalore": {
     "node_id": "VnxXRJyfR7nMFG96EOqK0v",
     "type": "CODE",
     "hide_input_from_viewers": false,
     "hide_output_from_viewers": false
    }
   }
  },
  {
   "cell_type": "code",
   "source": [
    "df[['user_score', 'na_sales', 'other_sales']].var()"
   ],
   "execution_count": 190,
   "outputs": [
    {
     "data": {
      "text/html": [
       "<pre>user_score     2.057974\n",
       "na_sales       1.041818\n",
       "other_sales    0.081991\n",
       "dtype: float64</pre>"
      ]
     },
     "metadata": {},
     "output_type": "display_data"
    }
   ],
   "metadata": {
    "datalore": {
     "node_id": "3dwxsddZu897uMcYQHZEhW",
     "type": "CODE",
     "hide_input_from_viewers": false,
     "hide_output_from_viewers": false
    }
   }
  },
  {
   "cell_type": "markdown",
   "source": [
    "Estimation of multivariate mathematical expectation and variance for inverse transform sample"
   ],
   "attachments": {},
   "metadata": {
    "datalore": {
     "node_id": "imGsYTgQgqzX2xRiSVGjf8",
     "type": "MD",
     "hide_input_from_viewers": false,
     "hide_output_from_viewers": false
    }
   }
  },
  {
   "cell_type": "code",
   "source": [
    "r_sampled[['user_score', 'na_sales', 'other_sales']].mean()"
   ],
   "execution_count": 191,
   "outputs": [
    {
     "data": {
      "text/html": [
       "<pre>user_score     7.238459\n",
       "na_sales       0.418299\n",
       "other_sales    0.092376\n",
       "dtype: float64</pre>"
      ]
     },
     "metadata": {},
     "output_type": "display_data"
    }
   ],
   "metadata": {
    "datalore": {
     "node_id": "8KVmM0ksAec2s9zsFGBcZP",
     "type": "CODE",
     "hide_input_from_viewers": false,
     "hide_output_from_viewers": false
    }
   }
  },
  {
   "cell_type": "code",
   "source": [
    "r_sampled[['user_score', 'na_sales', 'other_sales']].var()"
   ],
   "execution_count": 192,
   "outputs": [
    {
     "data": {
      "text/html": [
       "<pre>user_score     2.008018\n",
       "na_sales       0.849187\n",
       "other_sales    0.104644\n",
       "dtype: float64</pre>"
      ]
     },
     "metadata": {},
     "output_type": "display_data"
    }
   ],
   "metadata": {
    "datalore": {
     "node_id": "W283AH4Kk633q0374771p7",
     "type": "CODE",
     "hide_input_from_viewers": false,
     "hide_output_from_viewers": false
    }
   }
  },
  {
   "cell_type": "markdown",
   "source": [
    "Estimation of multivariate mathematical expectation and variance for random sample."
   ],
   "attachments": {},
   "metadata": {
    "datalore": {
     "node_id": "GrVsuXra8gkZNuTmFzd5yT",
     "type": "MD",
     "hide_input_from_viewers": false,
     "hide_output_from_viewers": false
    }
   }
  },
  {
   "cell_type": "code",
   "source": [
    "its_sampled.mean()"
   ],
   "execution_count": 193,
   "outputs": [
    {
     "data": {
      "text/html": [
       "<pre>user_score     7.203717\n",
       "na_sales       0.033308\n",
       "other_sales    0.018311\n",
       "dtype: float64</pre>"
      ]
     },
     "metadata": {},
     "output_type": "display_data"
    }
   ],
   "metadata": {
    "datalore": {
     "node_id": "Up21sEsezNviyNZLd7SXyz",
     "type": "CODE",
     "hide_input_from_viewers": false,
     "hide_output_from_viewers": false
    }
   }
  },
  {
   "cell_type": "code",
   "source": [
    "its_sampled.var()"
   ],
   "execution_count": 194,
   "outputs": [
    {
     "data": {
      "text/html": [
       "<pre>user_score     2.245484\n",
       "na_sales       0.051103\n",
       "other_sales    0.017135\n",
       "dtype: float64</pre>"
      ]
     },
     "metadata": {},
     "output_type": "display_data"
    }
   ],
   "metadata": {
    "datalore": {
     "node_id": "hy7d5IRSrWSgyXBd7Z9Drr",
     "type": "CODE",
     "hide_input_from_viewers": false,
     "hide_output_from_viewers": false
    }
   }
  },
  {
   "cell_type": "markdown",
   "source": [
    "## **Step 3.** Estimate relations between predictors and chosen target variables. At least, they should have significant correlation coefficients.\n",
    "> Calculate correlation coefficients and k-value for the confidence interval"
   ],
   "attachments": {},
   "metadata": {
    "datalore": {
     "node_id": "pxiKgCTlXLOadxCTyMJiZi",
     "type": "MD",
     "hide_input_from_viewers": false,
     "hide_output_from_viewers": false
    }
   }
  },
  {
   "cell_type": "code",
   "source": [
    "from scipy.stats.stats import pearsonr\n",
    "fig, ax = plt.subplots(1, 3, figsize=(20, 10))\n",
    "sns.set_theme()\n",
    "fig.tight_layout(pad=15.0)\n",
    "\n",
    "ax[0].set_title('user_score')\n",
    "ax[1].set_title('na_sales')\n",
    "ax[2].set_title('other_sales')\n",
    "\n",
    "sns.heatmap(\n",
    "    r_sampled.corr()[['user_score']].sort_values(by='user_score', ascending=False),\n",
    "    annot=True,\n",
    "    linewidths=0.25, \n",
    "    ax=ax[0]\n",
    ")\n",
    "sns.heatmap(\n",
    "    r_sampled.corr()[['na_sales']].sort_values(by='na_sales', ascending=False),\n",
    "    annot=True,\n",
    "    linewidths=0.25, \n",
    "    ax=ax[1]\n",
    ")\n",
    "sns.heatmap(\n",
    "    r_sampled.corr()[['other_sales']].sort_values(by='other_sales', ascending=False),\n",
    "    annot=True,\n",
    "    linewidths=0.25, \n",
    "    ax=ax[2]\n",
    ")\n",
    "\n",
    "\n",
    "plt.show()"
   ],
   "execution_count": 195,
   "outputs": [
    {
     "data": {
      "image/png": "[encoded data removed]"
     },
     "metadata": {
      "image/png": {}
     },
     "output_type": "display_data"
    }
   ],
   "metadata": {
    "datalore": {
     "node_id": "rzGrTIWw1DXtbAJlVkFwtb",
     "type": "CODE",
     "hide_input_from_viewers": false,
     "hide_output_from_viewers": false
    }
   }
  },
  {
   "cell_type": "code",
   "source": [
    "transformed = r_sampled[['user_score', 'na_sales', 'other_sales', 'critic_score', 'eu_sales', 'jp_sales', 'year_of_release']]"
   ],
   "execution_count": 196,
   "outputs": [],
   "metadata": {
    "datalore": {
     "node_id": "0FQNsEP7n4dnsTf0tNYe5R",
     "type": "CODE",
     "hide_input_from_viewers": false,
     "hide_output_from_viewers": false
    }
   }
  },
  {
   "cell_type": "code",
   "source": [
    "from scipy.stats.stats import pearsonr\n",
    "for val in transformed:\n",
    "    print(val, ' : ', pearsonr(r_sampled['user_score'], r_sampled[val]))"
   ],
   "execution_count": 197,
   "outputs": [
    {
     "name": "stdout",
     "text": [
      "user_score  :  (0.9999999999999996, 0.0)\n",
      "na_sales  :  (0.0918879489970765, 5.857302936982976e-07)\n",
      "other_sales  :  (0.06356401025942378, 0.0005562517551395353)\n",
      "critic_score  :  (0.5720022721426183, 1.1766126047926077e-255)\n",
      "eu_sales  :  (0.059777891869370436, 0.0011699991507108894)\n",
      "jp_sales  :  (0.12792873195870058, 3.185168730778976e-12)\n",
      "year_of_release  :  (-0.267928281471932, 1.3057342397405715e-49)\n"
     ],
     "output_type": "stream"
    }
   ],
   "metadata": {
    "datalore": {
     "node_id": "S920dB16RZmgIbeVaK7rgv",
     "type": "CODE",
     "hide_input_from_viewers": false,
     "hide_output_from_viewers": false
    }
   }
  },
  {
   "cell_type": "markdown",
   "source": [
    "## **Step 4.** Build a Bayesian network for chosen set of variables. Choose its structure on the basis of multivariate analysis and train distributions in nodes using chosen algorithm."
   ],
   "attachments": {},
   "metadata": {
    "datalore": {
     "node_id": "bRKhGR5riIhmaeRrFyDx7m",
     "type": "MD",
     "hide_input_from_viewers": false,
     "hide_output_from_viewers": false
    }
   }
  },
  {
   "cell_type": "code",
   "source": [
    "transformed = r_sampled[['user_score', 'na_sales', 'other_sales', 'critic_score', 'eu_sales', 'jp_sales', 'year_of_release']]"
   ],
   "execution_count": 198,
   "outputs": [],
   "metadata": {
    "datalore": {
     "node_id": "C5x6wIeaNyk3ssETAzmqUf",
     "type": "CODE",
     "hide_input_from_viewers": false,
     "hide_output_from_viewers": false
    }
   }
  },
  {
   "cell_type": "code",
   "source": [
    "edges_list = [\n",
    "    ('user_score', 'critic_score'),\n",
    "    ('na_sales', 'eu_sales'),\n",
    "    ('na_sales', 'jp_sales'),\n",
    "    ('na_sales', 'critic_score'),\n",
    "    ('other_sales', 'na_sales'),\n",
    "    ('other_sales', 'eu_sales'),\n",
    "    ('other_sales', 'jp_sales'),\n",
    "    ('other_sales', 'critic_score'),\n",
    "    ('year_of_release', 'user_score')\n",
    "]\n",
    "\n",
    "our_model = BayesianModel(edges_list)"
   ],
   "execution_count": 199,
   "outputs": [],
   "metadata": {
    "datalore": {
     "node_id": "9XtFt8kC087QhaHqADsM4u",
     "type": "CODE",
     "hide_input_from_viewers": false,
     "hide_output_from_viewers": false
    }
   }
  },
  {
   "cell_type": "code",
   "source": [
    "figure, ax = plt.subplots(1, 1, figsize=(15, 10))\n",
    "\n",
    "graph = nx.DiGraph()\n",
    "graph.add_edges_from(our_model.edges())\n",
    "\n",
    "positions = nx.layout.circular_layout(graph)\n",
    "nx.draw(graph, positions, with_labels=True, node_color='lightskyblue', node_size=5000)\n",
    "\n",
    "plt.show()"
   ],
   "execution_count": 200,
   "outputs": [
    {
     "data": {
      "image/png": "[encoded data removed]"
     },
     "metadata": {
      "image/png": {}
     },
     "output_type": "display_data"
    }
   ],
   "metadata": {
    "datalore": {
     "node_id": "haE383XAMtejM2OjfpE6H4",
     "type": "CODE",
     "hide_input_from_viewers": false,
     "hide_output_from_viewers": false
    }
   }
  },
  {
   "cell_type": "code",
   "source": [
    "to_discr = [2, 4, 5, 6, 7, 8, 9]"
   ],
   "execution_count": 201,
   "outputs": [],
   "metadata": {
    "datalore": {
     "node_id": "YQ4KA5Aw3mYjAJPUOoQxCv",
     "type": "CODE",
     "hide_input_from_viewers": false,
     "hide_output_from_viewers": false
    }
   }
  },
  {
   "cell_type": "code",
   "source": [
    "transformed_data = r_sampled.iloc[:, to_discr].copy()\n",
    "discretizer = KBinsDiscretizer(n_bins=5, encode='ordinal', strategy='kmeans')\n",
    "transformed_data = discretizer.fit_transform(transformed_data.values)\n",
    "r_sampled.iloc[:, to_discr] = transformed_data"
   ],
   "execution_count": 202,
   "outputs": [],
   "metadata": {
    "datalore": {
     "node_id": "DIXzKV9pkpKEg4vshHzsOO",
     "type": "CODE",
     "hide_input_from_viewers": false,
     "hide_output_from_viewers": false
    }
   }
  },
  {
   "cell_type": "code",
   "source": [
    "r_sampled = r_sampled.drop(['name'], axis=1)"
   ],
   "execution_count": 203,
   "outputs": [],
   "metadata": {
    "datalore": {
     "node_id": "sTDqGidatNm8j6g1sC9xRr",
     "type": "CODE",
     "hide_input_from_viewers": false,
     "hide_output_from_viewers": false
    }
   }
  },
  {
   "cell_type": "markdown",
   "source": [
    "## **Step 5.** Build a Bayesian network for the same set of variables but using 2 chosen algorithms for structural learning."
   ],
   "attachments": {},
   "metadata": {
    "datalore": {
     "node_id": "w4fuyAkIvNIXVCWObUaccz",
     "type": "MD",
     "hide_input_from_viewers": false,
     "hide_output_from_viewers": false
    }
   }
  },
  {
   "cell_type": "code",
   "source": [
    "hc = HillClimbSearch(data=r_sampled)\n",
    "k2 = hc.estimate(scoring_method=K2Score(r_sampled))\n",
    "bic = hc.estimate(scoring_method=BicScore(r_sampled))"
   ],
   "execution_count": 204,
   "outputs": [
    {
     "data": {
      "application/vnd.jupyter.widget-view+json": {
       "version_major": 2,
       "version_minor": 0,
       "model_id": "a877c320fbfc4f7a9f5ebaa58bd820a8"
      }
     },
     "metadata": {
      "application/vnd.jupyter.widget-view+json": {
       "datalore": {
        "widget_id": "Oq0dhvpbTRYbJ3XX6KYOCj"
       }
      }
     },
     "output_type": "display_data"
    },
    {
     "data": {
      "application/vnd.jupyter.widget-view+json": {
       "version_major": 2,
       "version_minor": 0,
       "model_id": "7004fcc1b2cc4d54b2d5dcd73a19cfab"
      }
     },
     "metadata": {
      "application/vnd.jupyter.widget-view+json": {
       "datalore": {
        "widget_id": "eoswlLjTdIOf9rHmM9Z3RC"
       }
      }
     },
     "output_type": "display_data"
    }
   ],
   "metadata": {
    "datalore": {
     "node_id": "KSUdvXpYkNNgf5TT6wJtwg",
     "type": "CODE",
     "hide_input_from_viewers": false,
     "hide_output_from_viewers": false
    }
   }
  },
  {
   "cell_type": "code",
   "source": [
    "k2.edges()"
   ],
   "execution_count": 205,
   "outputs": [
    {
     "data": {
      "text/plain": [
       "OutEdgeView([('platform', 'genre'), ('year_of_release', 'platform'), ('year_of_release', 'user_score'), ('genre', 'rating'), ('na_sales', 'critic_score'), ('na_sales', 'jp_sales'), ('eu_sales', 'na_sales'), ('jp_sales', 'year_of_release'), ('other_sales', 'eu_sales'), ('other_sales', 'na_sales'), ('other_sales', 'year_of_release'), ('critic_score', 'user_score')])"
      ]
     },
     "metadata": {},
     "output_type": "display_data"
    }
   ],
   "metadata": {
    "datalore": {
     "node_id": "5sgtvGV7soraNyaGUHa7gE",
     "type": "CODE",
     "hide_input_from_viewers": false,
     "hide_output_from_viewers": false
    }
   }
  },
  {
   "cell_type": "code",
   "source": [
    "bic.edges()"
   ],
   "execution_count": 206,
   "outputs": [
    {
     "data": {
      "text/plain": [
       "OutEdgeView([('platform', 'year_of_release'), ('year_of_release', 'user_score'), ('genre', 'rating'), ('na_sales', 'eu_sales'), ('na_sales', 'jp_sales'), ('eu_sales', 'other_sales'), ('critic_score', 'na_sales'), ('user_score', 'critic_score'), ('rating', 'platform')])"
      ]
     },
     "metadata": {},
     "output_type": "display_data"
    }
   ],
   "metadata": {
    "datalore": {
     "node_id": "6GQHDjEs3ip8X4VlKpOtq3",
     "type": "CODE",
     "hide_input_from_viewers": false,
     "hide_output_from_viewers": false
    }
   }
  },
  {
   "cell_type": "code",
   "source": [
    "\n",
    "fig, ax = plt.subplots(1, 1, figsize=(10, 10))\n",
    "graph = nx.DiGraph()\n",
    "graph.add_edges_from(k2.edges())\n",
    "nx.draw(graph, nx.layout.circular_layout(graph), with_labels=True, node_color='lightskyblue', node_size=6000)\n",
    "plt.show()"
   ],
   "execution_count": 207,
   "outputs": [
    {
     "data": {
      "image/png": "[encoded data removed]"
     },
     "metadata": {
      "image/png": {}
     },
     "output_type": "display_data"
    }
   ],
   "metadata": {
    "datalore": {
     "node_id": "XjHjqDKAXYXZ6UndGSLtyY",
     "type": "CODE",
     "hide_input_from_viewers": false,
     "hide_output_from_viewers": false
    }
   }
  },
  {
   "cell_type": "code",
   "source": [
    "fig, ax = plt.subplots(1, 1, figsize=(10, 10))\n",
    "graph = nx.DiGraph()\n",
    "graph.add_edges_from(bic.edges())\n",
    "nx.draw(graph, nx.layout.circular_layout(graph), with_labels=True, node_color='lightskyblue', node_size=6000)\n",
    "plt.show()"
   ],
   "execution_count": 208,
   "outputs": [
    {
     "data": {
      "image/png": "[encoded data removed]"
     },
     "metadata": {
      "image/png": {}
     },
     "output_type": "display_data"
    }
   ],
   "metadata": {
    "datalore": {
     "node_id": "Eq3bEGGefmODAy767CoPJB",
     "type": "CODE",
     "hide_input_from_viewers": false,
     "hide_output_from_viewers": false
    }
   }
  },
  {
   "cell_type": "code",
   "source": [
    "#BDeuScore\n",
    "bdeu = hc.estimate(scoring_method=BDeuScore(r_sampled))"
   ],
   "execution_count": 209,
   "outputs": [
    {
     "data": {
      "application/vnd.jupyter.widget-view+json": {
       "version_major": 2,
       "version_minor": 0,
       "model_id": "c262f47a377049f2859c643596894f8e"
      }
     },
     "metadata": {
      "application/vnd.jupyter.widget-view+json": {
       "datalore": {
        "widget_id": "XhEhRNfltprXYf6fRG0mcR"
       }
      }
     },
     "output_type": "display_data"
    }
   ],
   "metadata": {
    "datalore": {
     "node_id": "BZLN2OKImz5Nwm3yWj1w20",
     "type": "CODE",
     "hide_input_from_viewers": false,
     "hide_output_from_viewers": false
    }
   }
  },
  {
   "cell_type": "code",
   "source": [
    "bdeu.edges()"
   ],
   "execution_count": 210,
   "outputs": [
    {
     "data": {
      "text/plain": [
       "OutEdgeView([('platform', 'year_of_release'), ('year_of_release', 'user_score'), ('na_sales', 'eu_sales'), ('na_sales', 'critic_score'), ('na_sales', 'jp_sales'), ('na_sales', 'other_sales'), ('eu_sales', 'other_sales'), ('eu_sales', 'rating'), ('user_score', 'critic_score'), ('rating', 'genre'), ('rating', 'platform')])"
      ]
     },
     "metadata": {},
     "output_type": "display_data"
    }
   ],
   "metadata": {
    "datalore": {
     "node_id": "4FzF8hv1lo7o4Gk7rLLeii",
     "type": "CODE",
     "hide_input_from_viewers": false,
     "hide_output_from_viewers": false
    }
   }
  },
  {
   "cell_type": "code",
   "source": [
    "fig, ax = plt.subplots(1, 1, figsize=(10, 10))\n",
    "graph = nx.DiGraph()\n",
    "graph.add_edges_from(bdeu.edges())\n",
    "nx.draw(graph, nx.layout.circular_layout(graph), with_labels=True, node_color='lightskyblue', node_size=6000)\n",
    "plt.show()"
   ],
   "execution_count": 211,
   "outputs": [
    {
     "data": {
      "image/png": "[encoded data removed]"
     },
     "metadata": {
      "image/png": {}
     },
     "output_type": "display_data"
    }
   ],
   "metadata": {
    "datalore": {
     "node_id": "Kq7ogSDWT7n3pEnqAnY461",
     "type": "CODE",
     "hide_input_from_viewers": false,
     "hide_output_from_viewers": false
    }
   }
  },
  {
   "cell_type": "code",
   "source": [
    "e_search = TreeSearch(data=r_sampled)\n",
    "e_model = e_search.estimate()"
   ],
   "execution_count": 212,
   "outputs": [
    {
     "data": {
      "application/vnd.jupyter.widget-view+json": {
       "version_major": 2,
       "version_minor": 0,
       "model_id": "ea74cff6dce348eda4f1582f8455fe98"
      }
     },
     "metadata": {
      "application/vnd.jupyter.widget-view+json": {
       "datalore": {
        "widget_id": "Cs04kRzsQ6bhXmrVGtwBvm"
       }
      }
     },
     "output_type": "display_data"
    }
   ],
   "metadata": {
    "datalore": {
     "node_id": "9rCeWgqN3yxAXc8rYJDujt",
     "type": "CODE",
     "hide_input_from_viewers": false,
     "hide_output_from_viewers": false
    }
   }
  },
  {
   "cell_type": "code",
   "source": [
    "e_model.edges()"
   ],
   "execution_count": 213,
   "outputs": [
    {
     "data": {
      "text/plain": [
       "OutEdgeView([('platform', 'year_of_release'), ('platform', 'genre'), ('platform', 'user_score'), ('genre', 'rating'), ('user_score', 'critic_score'), ('critic_score', 'na_sales'), ('na_sales', 'eu_sales'), ('na_sales', 'jp_sales'), ('eu_sales', 'other_sales')])"
      ]
     },
     "metadata": {},
     "output_type": "display_data"
    }
   ],
   "metadata": {
    "datalore": {
     "node_id": "64ivzZYcqXeXZ0uZCDhhtj",
     "type": "CODE",
     "hide_input_from_viewers": false,
     "hide_output_from_viewers": false
    }
   }
  },
  {
   "cell_type": "code",
   "source": [
    "fig, ax = plt.subplots(1, 1, figsize=(10, 10))\n",
    "graph = nx.DiGraph()\n",
    "graph.add_edges_from(e_model.edges())\n",
    "nx.draw(graph, nx.layout.circular_layout(graph), with_labels=True, node_color='lightskyblue', node_size=5000)\n",
    "plt.show()"
   ],
   "execution_count": 214,
   "outputs": [
    {
     "data": {
      "image/png": "[encoded data removed]"
     },
     "metadata": {
      "image/png": {}
     },
     "output_type": "display_data"
    }
   ],
   "metadata": {
    "datalore": {
     "node_id": "l8FJnhNhjYyrrpqYL8PrD4",
     "type": "CODE",
     "hide_input_from_viewers": false,
     "hide_output_from_viewers": false
    }
   }
  },
  {
   "cell_type": "markdown",
   "source": [
    "## **Step 6.** Analyze a quality of sampled target variables from the point of view of problem statement (e.g. prediction, gap filling, synthetic generation)."
   ],
   "attachments": {},
   "metadata": {
    "datalore": {
     "node_id": "gOozcS1XB6ewV6dEM8boA9",
     "type": "MD",
     "hide_input_from_viewers": false,
     "hide_output_from_viewers": false
    }
   }
  },
  {
   "cell_type": "code",
   "source": [
    "def sampling (bn, data: pd.DataFrame, n: int = 100):\n",
    "\n",
    "    # data_continious = descritizer.inverse_transform(data.iloc[:, to_discr1].values)\n",
    "    # data_continious = pd.DataFrame(data_continious)\n",
    "    # sample_continious = descritizer.inverse_transform(samples.iloc[:, to_discr].values)\n",
    "    # sample_continious = pd.DataFrame(sample_continious)\n",
    "\n",
    "    bn_new = BayesianModel(bn.edges())\n",
    "    bn_new.fit(data)\n",
    "    sampler = BayesianModelSampling(bn_new)\n",
    "    sample = sampler.forward_sample(size=n)\n",
    "\n",
    "\n",
    "    return sample"
   ],
   "execution_count": 215,
   "outputs": [],
   "metadata": {
    "datalore": {
     "node_id": "m8F9FaGRBM2Ea5pq0sZAW9",
     "type": "CODE",
     "hide_input_from_viewers": false,
     "hide_output_from_viewers": false
    }
   }
  },
  {
   "cell_type": "code",
   "source": [
    "\n",
    "data_rmse = []\n",
    "data_mape = []\n",
    "data_r2 = []"
   ],
   "execution_count": 216,
   "outputs": [],
   "metadata": {
    "datalore": {
     "node_id": "luljpEayPZcHAC2fzqToH4",
     "type": "CODE",
     "hide_input_from_viewers": false,
     "hide_output_from_viewers": false
    }
   }
  },
  {
   "cell_type": "code",
   "source": [
    "def draw_comparative_hist (parametr: str, original_data: pd.DataFrame, data_sampled: pd.DataFrame, axes=None):\n",
    "\n",
    "    final_df = pd.DataFrame()\n",
    "    \n",
    "    df1 = pd.DataFrame()\n",
    "    df1[parametr] = original_data[parametr]\n",
    "    df1['Data'] = 'Original data'\n",
    "    df1['Probability'] = df1[parametr].apply(lambda x: (df1.groupby(parametr)[parametr].count()[x])/original_data.shape[0])\n",
    "    \n",
    "    df2 = pd.DataFrame()\n",
    "    df2[parametr] = data_sampled[parametr]\n",
    "    df2['Data'] = 'Synthetic data'\n",
    "    df2['Probability'] = df2[parametr].apply(lambda x: (df2.groupby(parametr)[parametr].count()[x])/data_sampled.shape[0])\n",
    "    final_df = pd.concat([df1, df2])\n",
    "    \n",
    "    sns.barplot(ax=axes, x=parametr, y=\"Probability\", hue=\"Data\", data=final_df)"
   ],
   "execution_count": 217,
   "outputs": [],
   "metadata": {
    "datalore": {
     "node_id": "F4f5gO8oLGF8cqA6m9QQqN",
     "type": "CODE",
     "hide_input_from_viewers": false,
     "hide_output_from_viewers": false
    }
   }
  },
  {
   "cell_type": "code",
   "source": [
    "def discr(data, samples, descritizer = discretizer):\n",
    "    data_continious = descritizer.inverse_transform(data.iloc[:, to_discr1].values)\n",
    "    data_continious = pd.DataFrame(data_continious)\n",
    "    sample_continious = descritizer.inverse_transform(samples.iloc[:, to_discr].values)\n",
    "    sample_continious = pd.DataFrame(sample_continious)\n",
    "\n",
    "    return data_continious, sample_continious"
   ],
   "execution_count": 218,
   "outputs": [],
   "metadata": {
    "datalore": {
     "node_id": "jUdUDQyv5ZLZsl7lZP1S89",
     "type": "CODE",
     "hide_input_from_viewers": false,
     "hide_output_from_viewers": false
    }
   }
  },
  {
   "cell_type": "code",
   "source": [
    "sample_K2 = sampling(k2, r_sampled)\n",
    "sample_Bic = sampling(bic, r_sampled)\n",
    "sample_BDeu = sampling(bdeu, r_sampled)"
   ],
   "execution_count": 238,
   "outputs": [
    {
     "data": {
      "application/vnd.jupyter.widget-view+json": {
       "version_major": 2,
       "version_minor": 0,
       "model_id": "ddd0ad870e034c279eca55feeafe6804"
      }
     },
     "metadata": {
      "application/vnd.jupyter.widget-view+json": {
       "datalore": {
        "widget_id": "Wiss72aZ55vNELBujDlcqz"
       }
      }
     },
     "output_type": "display_data"
    },
    {
     "data": {
      "application/vnd.jupyter.widget-view+json": {
       "version_major": 2,
       "version_minor": 0,
       "model_id": "78cdf0c513c44511b0e8f47d8086841b"
      }
     },
     "metadata": {
      "application/vnd.jupyter.widget-view+json": {
       "datalore": {
        "widget_id": "4gWGocngwRWGXCqZMp8ukR"
       }
      }
     },
     "output_type": "display_data"
    },
    {
     "data": {
      "application/vnd.jupyter.widget-view+json": {
       "version_major": 2,
       "version_minor": 0,
       "model_id": "7160c3528d2849f5a8a40d072d717aeb"
      }
     },
     "metadata": {
      "application/vnd.jupyter.widget-view+json": {
       "datalore": {
        "widget_id": "yqefVOCIrrSRtmdXUqxQvR"
       }
      }
     },
     "output_type": "display_data"
    }
   ],
   "metadata": {
    "datalore": {
     "node_id": "hOySJreDxIAWBUj06FE0JM",
     "type": "CODE",
     "hide_input_from_viewers": false,
     "hide_output_from_viewers": false
    }
   }
  },
  {
   "cell_type": "code",
   "source": [
    "sample_our = sampling(our_model, r_sampled)\n",
    "sample_tree = sampling(e_model, r_sampled)"
   ],
   "execution_count": 239,
   "outputs": [
    {
     "data": {
      "application/vnd.jupyter.widget-view+json": {
       "version_major": 2,
       "version_minor": 0,
       "model_id": "46255f988511476fb42d7b24931c34b7"
      }
     },
     "metadata": {
      "application/vnd.jupyter.widget-view+json": {
       "datalore": {
        "widget_id": "gVZMQP01BPn6IC4ULTyTeS"
       }
      }
     },
     "output_type": "display_data"
    },
    {
     "data": {
      "application/vnd.jupyter.widget-view+json": {
       "version_major": 2,
       "version_minor": 0,
       "model_id": "45f689facaea4c7fb3ef021e1451d46c"
      }
     },
     "metadata": {
      "application/vnd.jupyter.widget-view+json": {
       "datalore": {
        "widget_id": "Q4ew94iDNBu9bzpxHXEidP"
       }
      }
     },
     "output_type": "display_data"
    }
   ],
   "metadata": {
    "datalore": {
     "node_id": "5WZHsh7AUPSw7a9Cn5SYER",
     "type": "CODE",
     "hide_input_from_viewers": false,
     "hide_output_from_viewers": false
    }
   }
  },
  {
   "cell_type": "code",
   "source": [
    "sample_BDeu"
   ],
   "execution_count": 234,
   "outputs": [
    {
     "data": {
      "text/html": [
       "<div>\n",
       "<style scoped>\n",
       "    .dataframe tbody tr th:only-of-type {\n",
       "        vertical-align: middle;\n",
       "    }\n",
       "\n",
       "    .dataframe tbody tr th {\n",
       "        vertical-align: top;\n",
       "    }\n",
       "\n",
       "    .dataframe thead th {\n",
       "        text-align: right;\n",
       "    }\n",
       "</style>\n",
       "<table border=\"1\" class=\"dataframe\">\n",
       "  <thead>\n",
       "    <tr style=\"text-align: right;\">\n",
       "      <th></th>\n",
       "      <th>platform</th>\n",
       "      <th>year_of_release</th>\n",
       "      <th>user_score</th>\n",
       "      <th>na_sales</th>\n",
       "      <th>eu_sales</th>\n",
       "      <th>critic_score</th>\n",
       "      <th>jp_sales</th>\n",
       "      <th>other_sales</th>\n",
       "      <th>rating</th>\n",
       "      <th>genre</th>\n",
       "    </tr>\n",
       "  </thead>\n",
       "  <tbody>\n",
       "    <tr>\n",
       "      <th>0</th>\n",
       "      <td>X360</td>\n",
       "      <td>3.0</td>\n",
       "      <td>4.0</td>\n",
       "      <td>0.0</td>\n",
       "      <td>0.0</td>\n",
       "      <td>3.0</td>\n",
       "      <td>0.0</td>\n",
       "      <td>0.0</td>\n",
       "      <td>T</td>\n",
       "      <td>Shooter</td>\n",
       "    </tr>\n",
       "    <tr>\n",
       "      <th>1</th>\n",
       "      <td>X360</td>\n",
       "      <td>3.0</td>\n",
       "      <td>1.0</td>\n",
       "      <td>0.0</td>\n",
       "      <td>0.0</td>\n",
       "      <td>1.0</td>\n",
       "      <td>0.0</td>\n",
       "      <td>0.0</td>\n",
       "      <td>E</td>\n",
       "      <td>Sports</td>\n",
       "    </tr>\n",
       "    <tr>\n",
       "      <th>2</th>\n",
       "      <td>PS3</td>\n",
       "      <td>4.0</td>\n",
       "      <td>1.0</td>\n",
       "      <td>0.0</td>\n",
       "      <td>0.0</td>\n",
       "      <td>1.0</td>\n",
       "      <td>0.0</td>\n",
       "      <td>0.0</td>\n",
       "      <td>T</td>\n",
       "      <td>Misc</td>\n",
       "    </tr>\n",
       "    <tr>\n",
       "      <th>3</th>\n",
       "      <td>PSP</td>\n",
       "      <td>3.0</td>\n",
       "      <td>4.0</td>\n",
       "      <td>0.0</td>\n",
       "      <td>0.0</td>\n",
       "      <td>3.0</td>\n",
       "      <td>0.0</td>\n",
       "      <td>0.0</td>\n",
       "      <td>E</td>\n",
       "      <td>Action</td>\n",
       "    </tr>\n",
       "    <tr>\n",
       "      <th>4</th>\n",
       "      <td>PS2</td>\n",
       "      <td>3.0</td>\n",
       "      <td>3.0</td>\n",
       "      <td>2.0</td>\n",
       "      <td>1.0</td>\n",
       "      <td>3.0</td>\n",
       "      <td>0.0</td>\n",
       "      <td>0.0</td>\n",
       "      <td>M</td>\n",
       "      <td>Racing</td>\n",
       "    </tr>\n",
       "    <tr>\n",
       "      <th>...</th>\n",
       "      <td>...</td>\n",
       "      <td>...</td>\n",
       "      <td>...</td>\n",
       "      <td>...</td>\n",
       "      <td>...</td>\n",
       "      <td>...</td>\n",
       "      <td>...</td>\n",
       "      <td>...</td>\n",
       "      <td>...</td>\n",
       "      <td>...</td>\n",
       "    </tr>\n",
       "    <tr>\n",
       "      <th>95</th>\n",
       "      <td>PS2</td>\n",
       "      <td>2.0</td>\n",
       "      <td>4.0</td>\n",
       "      <td>0.0</td>\n",
       "      <td>0.0</td>\n",
       "      <td>4.0</td>\n",
       "      <td>0.0</td>\n",
       "      <td>0.0</td>\n",
       "      <td>E</td>\n",
       "      <td>Racing</td>\n",
       "    </tr>\n",
       "    <tr>\n",
       "      <th>96</th>\n",
       "      <td>PS3</td>\n",
       "      <td>4.0</td>\n",
       "      <td>3.0</td>\n",
       "      <td>1.0</td>\n",
       "      <td>1.0</td>\n",
       "      <td>3.0</td>\n",
       "      <td>0.0</td>\n",
       "      <td>0.0</td>\n",
       "      <td>E</td>\n",
       "      <td>Racing</td>\n",
       "    </tr>\n",
       "    <tr>\n",
       "      <th>97</th>\n",
       "      <td>PS</td>\n",
       "      <td>1.0</td>\n",
       "      <td>4.0</td>\n",
       "      <td>0.0</td>\n",
       "      <td>0.0</td>\n",
       "      <td>3.0</td>\n",
       "      <td>0.0</td>\n",
       "      <td>0.0</td>\n",
       "      <td>E</td>\n",
       "      <td>Strategy</td>\n",
       "    </tr>\n",
       "    <tr>\n",
       "      <th>98</th>\n",
       "      <td>PS2</td>\n",
       "      <td>2.0</td>\n",
       "      <td>3.0</td>\n",
       "      <td>1.0</td>\n",
       "      <td>1.0</td>\n",
       "      <td>4.0</td>\n",
       "      <td>0.0</td>\n",
       "      <td>0.0</td>\n",
       "      <td>M</td>\n",
       "      <td>Shooter</td>\n",
       "    </tr>\n",
       "    <tr>\n",
       "      <th>99</th>\n",
       "      <td>Wii</td>\n",
       "      <td>4.0</td>\n",
       "      <td>2.0</td>\n",
       "      <td>0.0</td>\n",
       "      <td>0.0</td>\n",
       "      <td>3.0</td>\n",
       "      <td>0.0</td>\n",
       "      <td>0.0</td>\n",
       "      <td>E</td>\n",
       "      <td>Platform</td>\n",
       "    </tr>\n",
       "  </tbody>\n",
       "</table>\n",
       "<p>100 rows × 10 columns</p>\n",
       "</div>"
      ]
     },
     "metadata": {},
     "output_type": "display_data"
    }
   ],
   "metadata": {
    "datalore": {
     "node_id": "NUqnR38jifCJcU8oaYHbc1",
     "type": "CODE",
     "hide_input_from_viewers": false,
     "hide_output_from_viewers": false
    }
   }
  },
  {
   "cell_type": "code",
   "source": [
    "to_discr = [2, 3, 5, 6, 7, 8, 9]\n",
    "data, sample_K2 = discr(r_sampled, sample_K2)\n",
    "\n",
    "to_discr = [1, 2, 5, 6, 7, 8, 9]\n",
    "data, sample_Bic  = discr(r_sampled, sample_Bic)\n",
    "\n",
    "to_discr = [1, 2, 3, 4, 5, 6, 7]\n",
    "data, sample_BDeu  = discr(r_sampled, sample_BDeu)\n",
    "\n",
    "to_discr = [0,1,2,3,4,5,6]\n",
    "data, sample_our  = discr(r_sampled, sample_our)\n",
    "\n",
    "\n",
    "to_discr = [1, 3, 5, 6, 7, 8, 9]\n",
    "data, sample_tree  = discr(r_sampled, sample_tree)"
   ],
   "execution_count": 235,
   "outputs": [],
   "metadata": {
    "datalore": {
     "node_id": "Z93O0sjaFfzXEQ3N83gpvv",
     "type": "CODE",
     "hide_input_from_viewers": false,
     "hide_output_from_viewers": false
    }
   }
  },
  {
   "cell_type": "code",
   "source": [
    "data"
   ],
   "execution_count": 237,
   "outputs": [
    {
     "data": {
      "text/html": [
       "<div>\n",
       "<style scoped>\n",
       "    .dataframe tbody tr th:only-of-type {\n",
       "        vertical-align: middle;\n",
       "    }\n",
       "\n",
       "    .dataframe tbody tr th {\n",
       "        vertical-align: top;\n",
       "    }\n",
       "\n",
       "    .dataframe thead th {\n",
       "        text-align: right;\n",
       "    }\n",
       "</style>\n",
       "<table border=\"1\" class=\"dataframe\">\n",
       "  <thead>\n",
       "    <tr style=\"text-align: right;\">\n",
       "      <th></th>\n",
       "      <th>0</th>\n",
       "      <th>1</th>\n",
       "      <th>2</th>\n",
       "      <th>3</th>\n",
       "      <th>4</th>\n",
       "      <th>5</th>\n",
       "      <th>6</th>\n",
       "    </tr>\n",
       "  </thead>\n",
       "  <tbody>\n",
       "    <tr>\n",
       "      <th>0</th>\n",
       "      <td>2002.840555</td>\n",
       "      <td>0.286454</td>\n",
       "      <td>0.205526</td>\n",
       "      <td>0.202432</td>\n",
       "      <td>0.124653</td>\n",
       "      <td>89.176089</td>\n",
       "      <td>8.727312</td>\n",
       "    </tr>\n",
       "    <tr>\n",
       "      <th>1</th>\n",
       "      <td>2012.854829</td>\n",
       "      <td>1.215531</td>\n",
       "      <td>0.205526</td>\n",
       "      <td>0.202432</td>\n",
       "      <td>0.124653</td>\n",
       "      <td>89.176089</td>\n",
       "      <td>7.372183</td>\n",
       "    </tr>\n",
       "    <tr>\n",
       "      <th>2</th>\n",
       "      <td>2002.840555</td>\n",
       "      <td>0.286454</td>\n",
       "      <td>0.205526</td>\n",
       "      <td>0.202432</td>\n",
       "      <td>0.124653</td>\n",
       "      <td>62.768298</td>\n",
       "      <td>7.372183</td>\n",
       "    </tr>\n",
       "    <tr>\n",
       "      <th>3</th>\n",
       "      <td>2007.263401</td>\n",
       "      <td>0.286454</td>\n",
       "      <td>0.205526</td>\n",
       "      <td>0.202432</td>\n",
       "      <td>0.124653</td>\n",
       "      <td>74.567406</td>\n",
       "      <td>7.372183</td>\n",
       "    </tr>\n",
       "    <tr>\n",
       "      <th>4</th>\n",
       "      <td>2002.840555</td>\n",
       "      <td>3.633653</td>\n",
       "      <td>0.946954</td>\n",
       "      <td>0.202432</td>\n",
       "      <td>0.124653</td>\n",
       "      <td>74.567406</td>\n",
       "      <td>7.372183</td>\n",
       "    </tr>\n",
       "    <tr>\n",
       "      <th>...</th>\n",
       "      <td>...</td>\n",
       "      <td>...</td>\n",
       "      <td>...</td>\n",
       "      <td>...</td>\n",
       "      <td>...</td>\n",
       "      <td>...</td>\n",
       "      <td>...</td>\n",
       "    </tr>\n",
       "    <tr>\n",
       "      <th>2941</th>\n",
       "      <td>2007.263401</td>\n",
       "      <td>1.215531</td>\n",
       "      <td>0.205526</td>\n",
       "      <td>0.202432</td>\n",
       "      <td>0.124653</td>\n",
       "      <td>89.176089</td>\n",
       "      <td>8.727312</td>\n",
       "    </tr>\n",
       "    <tr>\n",
       "      <th>2942</th>\n",
       "      <td>2007.263401</td>\n",
       "      <td>0.286454</td>\n",
       "      <td>0.205526</td>\n",
       "      <td>0.202432</td>\n",
       "      <td>0.124653</td>\n",
       "      <td>62.768298</td>\n",
       "      <td>7.372183</td>\n",
       "    </tr>\n",
       "    <tr>\n",
       "      <th>2943</th>\n",
       "      <td>2002.840555</td>\n",
       "      <td>0.286454</td>\n",
       "      <td>0.205526</td>\n",
       "      <td>0.202432</td>\n",
       "      <td>0.124653</td>\n",
       "      <td>74.567406</td>\n",
       "      <td>6.142162</td>\n",
       "    </tr>\n",
       "    <tr>\n",
       "      <th>2944</th>\n",
       "      <td>2007.263401</td>\n",
       "      <td>0.286454</td>\n",
       "      <td>0.205526</td>\n",
       "      <td>0.202432</td>\n",
       "      <td>0.124653</td>\n",
       "      <td>74.567406</td>\n",
       "      <td>6.142162</td>\n",
       "    </tr>\n",
       "    <tr>\n",
       "      <th>2945</th>\n",
       "      <td>2012.854829</td>\n",
       "      <td>1.215531</td>\n",
       "      <td>0.205526</td>\n",
       "      <td>0.202432</td>\n",
       "      <td>0.124653</td>\n",
       "      <td>74.567406</td>\n",
       "      <td>4.695919</td>\n",
       "    </tr>\n",
       "  </tbody>\n",
       "</table>\n",
       "<p>2946 rows × 7 columns</p>\n",
       "</div>"
      ]
     },
     "metadata": {},
     "output_type": "display_data"
    }
   ],
   "metadata": {
    "datalore": {
     "node_id": "5AdeBHeZn1Evnegp37mZlI",
     "type": "CODE",
     "hide_input_from_viewers": false,
     "hide_output_from_viewers": false
    }
   }
  },
  {
   "cell_type": "code",
   "source": [
    "fig, axes = plt.subplots(1, 3, figsize=(15, 6))\n",
    "\n",
    "draw_comparative_hist('year_of_release', data, descritizer.inverse_transform(sample_K2['year_of_release'].values), axes=axes[0])\n",
    "draw_comparative_hist('year_of_release', data, sample_Bic['year_of_release'].values, axes=axes[1])\n",
    "draw_comparative_hist('year_of_release', data, sample_BDeu, axes=axes[2])\n",
    "\n",
    "axes[0].set_title('K2_Score')\n",
    "axes[1].set_title('Bic_Score')\n",
    "axes[2].set_title('BDeu_Score')\n",
    "plt.legend()\n",
    "plt.show()"
   ],
   "execution_count": 236,
   "outputs": [
    {
     "ename": "KeyError",
     "evalue": "KeyError: 'year_of_release'",
     "traceback": [
      "\u001B[0;31m---------------------------------------------------------------------------",
      "Traceback (most recent call last)",
      "    at line 3 in <module>",
      "    at line 6 in draw_comparative_hist(parametr, original_data, data_sampled, axes)",
      "    at line 3458 in __getitem__(self, key)",
      "    at line 388 in get_loc(self, key, method, tolerance)",
      "KeyError: 'year_of_release'"
     ],
     "output_type": "error"
    },
    {
     "data": {
      "image/png": "[encoded data removed]"
     },
     "metadata": {
      "image/png": {}
     },
     "output_type": "display_data"
    }
   ],
   "metadata": {
    "datalore": {
     "node_id": "WlUWDMffGhBAMAo5VpyQ2a",
     "type": "CODE",
     "hide_input_from_viewers": false,
     "hide_output_from_viewers": false
    }
   }
  },
  {
   "cell_type": "code",
   "source": [
    "fig, axes = plt.subplots(1, 3, figsize=(15, 6))\n",
    "\n",
    "draw_comparative_hist('na_sales', data, sample_K2, axes=axes[0])\n",
    "draw_comparative_hist('na_sales', data, sample_Bic, axes=axes[1])\n",
    "draw_comparative_hist('na_sales', data, sample_BDeu, axes=axes[2])\n",
    "\n",
    "axes[0].set_title('K2_Score')\n",
    "axes[1].set_title('Bic_Score')\n",
    "axes[2].set_title('BDeu_Score')\n",
    "plt.legend()\n",
    "plt.show()"
   ],
   "execution_count": 158,
   "outputs": [
    {
     "data": {
      "image/png": "[encoded data removed]"
     },
     "metadata": {
      "image/png": {}
     },
     "output_type": "display_data"
    }
   ],
   "metadata": {
    "datalore": {
     "node_id": "bYk9HE2Tm1a1NZdFAgcbza",
     "type": "CODE",
     "hide_input_from_viewers": false,
     "hide_output_from_viewers": false
    }
   }
  },
  {
   "cell_type": "code",
   "source": [
    "fig, axes = plt.subplots(1, 3, figsize=(15, 6))\n",
    "\n",
    "draw_comparative_hist('other_sales', data, sample_K2, axes=axes[0])\n",
    "draw_comparative_hist('other_sales', data, sample_Bic, axes=axes[1])\n",
    "draw_comparative_hist('other_sales', data, sample_BDeu, axes=axes[2])\n",
    "\n",
    "axes[0].set_title('K2_Score')\n",
    "axes[1].set_title('Bic_Score')\n",
    "axes[2].set_title('BDeu_Score')\n",
    "plt.legend()\n",
    "plt.show()"
   ],
   "execution_count": 159,
   "outputs": [
    {
     "data": {
      "image/png": "[encoded data removed]"
     },
     "metadata": {
      "image/png": {}
     },
     "output_type": "display_data"
    }
   ],
   "metadata": {
    "datalore": {
     "node_id": "7xp6HDsTjG1aTy1STEbhEH",
     "type": "CODE",
     "hide_input_from_viewers": false,
     "hide_output_from_viewers": false
    }
   }
  },
  {
   "cell_type": "code",
   "source": [
    "to_discr1 = [1, 3, 4, 5, 6, 7,8]"
   ],
   "execution_count": 160,
   "outputs": [],
   "metadata": {
    "datalore": {
     "node_id": "ncrOVudrQJnsmVvSoUCF26",
     "type": "CODE",
     "hide_input_from_viewers": false,
     "hide_output_from_viewers": false
    }
   }
  },
  {
   "cell_type": "code",
   "source": [
    "sample_BDeu"
   ],
   "execution_count": 161,
   "outputs": [
    {
     "data": {
      "text/html": [
       "<div>\n",
       "<style scoped>\n",
       "    .dataframe tbody tr th:only-of-type {\n",
       "        vertical-align: middle;\n",
       "    }\n",
       "\n",
       "    .dataframe tbody tr th {\n",
       "        vertical-align: top;\n",
       "    }\n",
       "\n",
       "    .dataframe thead th {\n",
       "        text-align: right;\n",
       "    }\n",
       "</style>\n",
       "<table border=\"1\" class=\"dataframe\">\n",
       "  <thead>\n",
       "    <tr style=\"text-align: right;\">\n",
       "      <th></th>\n",
       "      <th>platform</th>\n",
       "      <th>year_of_release</th>\n",
       "      <th>other_sales</th>\n",
       "      <th>jp_sales</th>\n",
       "      <th>user_score</th>\n",
       "      <th>genre</th>\n",
       "      <th>rating</th>\n",
       "      <th>na_sales</th>\n",
       "      <th>critic_score</th>\n",
       "      <th>eu_sales</th>\n",
       "    </tr>\n",
       "  </thead>\n",
       "  <tbody>\n",
       "    <tr>\n",
       "      <th>0</th>\n",
       "      <td>PS2</td>\n",
       "      <td>3.0</td>\n",
       "      <td>0.0</td>\n",
       "      <td>0.0</td>\n",
       "      <td>2.0</td>\n",
       "      <td>Simulation</td>\n",
       "      <td>T</td>\n",
       "      <td>0.0</td>\n",
       "      <td>2.0</td>\n",
       "      <td>0.0</td>\n",
       "    </tr>\n",
       "    <tr>\n",
       "      <th>1</th>\n",
       "      <td>PC</td>\n",
       "      <td>2.0</td>\n",
       "      <td>0.0</td>\n",
       "      <td>0.0</td>\n",
       "      <td>3.0</td>\n",
       "      <td>Shooter</td>\n",
       "      <td>E</td>\n",
       "      <td>0.0</td>\n",
       "      <td>3.0</td>\n",
       "      <td>0.0</td>\n",
       "    </tr>\n",
       "    <tr>\n",
       "      <th>2</th>\n",
       "      <td>PS4</td>\n",
       "      <td>4.0</td>\n",
       "      <td>0.0</td>\n",
       "      <td>0.0</td>\n",
       "      <td>3.0</td>\n",
       "      <td>Role-Playing</td>\n",
       "      <td>M</td>\n",
       "      <td>0.0</td>\n",
       "      <td>2.0</td>\n",
       "      <td>0.0</td>\n",
       "    </tr>\n",
       "    <tr>\n",
       "      <th>3</th>\n",
       "      <td>PS3</td>\n",
       "      <td>4.0</td>\n",
       "      <td>0.0</td>\n",
       "      <td>0.0</td>\n",
       "      <td>3.0</td>\n",
       "      <td>Action</td>\n",
       "      <td>T</td>\n",
       "      <td>0.0</td>\n",
       "      <td>3.0</td>\n",
       "      <td>0.0</td>\n",
       "    </tr>\n",
       "    <tr>\n",
       "      <th>4</th>\n",
       "      <td>X360</td>\n",
       "      <td>3.0</td>\n",
       "      <td>0.0</td>\n",
       "      <td>0.0</td>\n",
       "      <td>2.0</td>\n",
       "      <td>Shooter</td>\n",
       "      <td>M</td>\n",
       "      <td>0.0</td>\n",
       "      <td>2.0</td>\n",
       "      <td>0.0</td>\n",
       "    </tr>\n",
       "    <tr>\n",
       "      <th>...</th>\n",
       "      <td>...</td>\n",
       "      <td>...</td>\n",
       "      <td>...</td>\n",
       "      <td>...</td>\n",
       "      <td>...</td>\n",
       "      <td>...</td>\n",
       "      <td>...</td>\n",
       "      <td>...</td>\n",
       "      <td>...</td>\n",
       "      <td>...</td>\n",
       "    </tr>\n",
       "    <tr>\n",
       "      <th>95</th>\n",
       "      <td>PC</td>\n",
       "      <td>4.0</td>\n",
       "      <td>0.0</td>\n",
       "      <td>0.0</td>\n",
       "      <td>2.0</td>\n",
       "      <td>Shooter</td>\n",
       "      <td>M</td>\n",
       "      <td>0.0</td>\n",
       "      <td>4.0</td>\n",
       "      <td>0.0</td>\n",
       "    </tr>\n",
       "    <tr>\n",
       "      <th>96</th>\n",
       "      <td>PS2</td>\n",
       "      <td>3.0</td>\n",
       "      <td>0.0</td>\n",
       "      <td>0.0</td>\n",
       "      <td>1.0</td>\n",
       "      <td>Action</td>\n",
       "      <td>T</td>\n",
       "      <td>0.0</td>\n",
       "      <td>1.0</td>\n",
       "      <td>0.0</td>\n",
       "    </tr>\n",
       "    <tr>\n",
       "      <th>97</th>\n",
       "      <td>PS</td>\n",
       "      <td>1.0</td>\n",
       "      <td>0.0</td>\n",
       "      <td>0.0</td>\n",
       "      <td>3.0</td>\n",
       "      <td>Role-Playing</td>\n",
       "      <td>T</td>\n",
       "      <td>0.0</td>\n",
       "      <td>3.0</td>\n",
       "      <td>0.0</td>\n",
       "    </tr>\n",
       "    <tr>\n",
       "      <th>98</th>\n",
       "      <td>PS3</td>\n",
       "      <td>4.0</td>\n",
       "      <td>0.0</td>\n",
       "      <td>0.0</td>\n",
       "      <td>2.0</td>\n",
       "      <td>Shooter</td>\n",
       "      <td>M</td>\n",
       "      <td>0.0</td>\n",
       "      <td>0.0</td>\n",
       "      <td>0.0</td>\n",
       "    </tr>\n",
       "    <tr>\n",
       "      <th>99</th>\n",
       "      <td>PS</td>\n",
       "      <td>1.0</td>\n",
       "      <td>0.0</td>\n",
       "      <td>0.0</td>\n",
       "      <td>3.0</td>\n",
       "      <td>Action</td>\n",
       "      <td>T</td>\n",
       "      <td>0.0</td>\n",
       "      <td>3.0</td>\n",
       "      <td>0.0</td>\n",
       "    </tr>\n",
       "  </tbody>\n",
       "</table>\n",
       "<p>100 rows × 10 columns</p>\n",
       "</div>"
      ]
     },
     "metadata": {},
     "output_type": "display_data"
    }
   ],
   "metadata": {
    "datalore": {
     "node_id": "wqMjZBghkcQ7g1DzC0x5SB",
     "type": "CODE",
     "hide_input_from_viewers": false,
     "hide_output_from_viewers": false
    }
   }
  },
  {
   "cell_type": "code",
   "source": [
    "from math import sqrt\n",
    "from sklearn.metrics import mean_squared_error, mean_absolute_error\n",
    "from sklearn.metrics import mean_absolute_percentage_error as mape\n",
    "\n",
    "def get_scores(data, samples, descritizer=discretizer):\n",
    "\n",
    "    data_continious = descritizer.inverse_transform(data.iloc[:, to_discr1].values)\n",
    "    data_continious = pd.DataFrame(data_continious)\n",
    "    sample_continious = descritizer.inverse_transform(samples.iloc[:, to_discr].values)\n",
    "    sample_continious = pd.DataFrame(sample_continious)\n",
    "\n",
    "    y_true = data_continious[6].values[:100]\n",
    "    y_pred = sample_continious[6].values\n",
    "\n",
    "    corr_matrix = np.corrcoef(y_true, y_pred)\n",
    "    corr = corr_matrix[0,1]\n",
    "    R_sq = corr**2\n",
    "\n",
    "    print(f'R-2 score is: {R_sq}')\n",
    "    print(f'RMSE is: {sqrt(mean_squared_error(y_true, y_pred))}')\n",
    "    print(f'MAE is: {mean_absolute_error(y_true, y_pred)}')\n",
    "    return R_sq, sqrt(mean_squared_error(y_true, y_pred)), mape(y_true, y_pred)"
   ],
   "execution_count": 162,
   "outputs": [],
   "metadata": {
    "datalore": {
     "node_id": "KiKXIWWoaFiuZvdrM94GWf",
     "type": "CODE",
     "hide_input_from_viewers": false,
     "hide_output_from_viewers": false
    }
   }
  },
  {
   "cell_type": "code",
   "source": [
    "sample_tree"
   ],
   "execution_count": 163,
   "outputs": [
    {
     "data": {
      "text/html": [
       "<div>\n",
       "<style scoped>\n",
       "    .dataframe tbody tr th:only-of-type {\n",
       "        vertical-align: middle;\n",
       "    }\n",
       "\n",
       "    .dataframe tbody tr th {\n",
       "        vertical-align: top;\n",
       "    }\n",
       "\n",
       "    .dataframe thead th {\n",
       "        text-align: right;\n",
       "    }\n",
       "</style>\n",
       "<table border=\"1\" class=\"dataframe\">\n",
       "  <thead>\n",
       "    <tr style=\"text-align: right;\">\n",
       "      <th></th>\n",
       "      <th>platform</th>\n",
       "      <th>year_of_release</th>\n",
       "      <th>genre</th>\n",
       "      <th>user_score</th>\n",
       "      <th>other_sales</th>\n",
       "      <th>rating</th>\n",
       "      <th>critic_score</th>\n",
       "      <th>na_sales</th>\n",
       "      <th>eu_sales</th>\n",
       "      <th>jp_sales</th>\n",
       "    </tr>\n",
       "  </thead>\n",
       "  <tbody>\n",
       "    <tr>\n",
       "      <th>0</th>\n",
       "      <td>XB</td>\n",
       "      <td>3.0</td>\n",
       "      <td>Fighting</td>\n",
       "      <td>3.0</td>\n",
       "      <td>0.0</td>\n",
       "      <td>T</td>\n",
       "      <td>4.0</td>\n",
       "      <td>0.0</td>\n",
       "      <td>0.0</td>\n",
       "      <td>0.0</td>\n",
       "    </tr>\n",
       "    <tr>\n",
       "      <th>1</th>\n",
       "      <td>PC</td>\n",
       "      <td>3.0</td>\n",
       "      <td>Strategy</td>\n",
       "      <td>3.0</td>\n",
       "      <td>0.0</td>\n",
       "      <td>T</td>\n",
       "      <td>2.0</td>\n",
       "      <td>0.0</td>\n",
       "      <td>0.0</td>\n",
       "      <td>0.0</td>\n",
       "    </tr>\n",
       "    <tr>\n",
       "      <th>2</th>\n",
       "      <td>PS2</td>\n",
       "      <td>3.0</td>\n",
       "      <td>Action</td>\n",
       "      <td>3.0</td>\n",
       "      <td>0.0</td>\n",
       "      <td>E</td>\n",
       "      <td>3.0</td>\n",
       "      <td>0.0</td>\n",
       "      <td>0.0</td>\n",
       "      <td>0.0</td>\n",
       "    </tr>\n",
       "    <tr>\n",
       "      <th>3</th>\n",
       "      <td>PS3</td>\n",
       "      <td>4.0</td>\n",
       "      <td>Shooter</td>\n",
       "      <td>3.0</td>\n",
       "      <td>0.0</td>\n",
       "      <td>M</td>\n",
       "      <td>3.0</td>\n",
       "      <td>0.0</td>\n",
       "      <td>0.0</td>\n",
       "      <td>0.0</td>\n",
       "    </tr>\n",
       "    <tr>\n",
       "      <th>4</th>\n",
       "      <td>GC</td>\n",
       "      <td>2.0</td>\n",
       "      <td>Misc</td>\n",
       "      <td>2.0</td>\n",
       "      <td>0.0</td>\n",
       "      <td>T</td>\n",
       "      <td>2.0</td>\n",
       "      <td>0.0</td>\n",
       "      <td>0.0</td>\n",
       "      <td>0.0</td>\n",
       "    </tr>\n",
       "    <tr>\n",
       "      <th>...</th>\n",
       "      <td>...</td>\n",
       "      <td>...</td>\n",
       "      <td>...</td>\n",
       "      <td>...</td>\n",
       "      <td>...</td>\n",
       "      <td>...</td>\n",
       "      <td>...</td>\n",
       "      <td>...</td>\n",
       "      <td>...</td>\n",
       "      <td>...</td>\n",
       "    </tr>\n",
       "    <tr>\n",
       "      <th>95</th>\n",
       "      <td>DS</td>\n",
       "      <td>3.0</td>\n",
       "      <td>Sports</td>\n",
       "      <td>0.0</td>\n",
       "      <td>0.0</td>\n",
       "      <td>E</td>\n",
       "      <td>0.0</td>\n",
       "      <td>0.0</td>\n",
       "      <td>0.0</td>\n",
       "      <td>0.0</td>\n",
       "    </tr>\n",
       "    <tr>\n",
       "      <th>96</th>\n",
       "      <td>PS2</td>\n",
       "      <td>3.0</td>\n",
       "      <td>Simulation</td>\n",
       "      <td>4.0</td>\n",
       "      <td>0.0</td>\n",
       "      <td>T</td>\n",
       "      <td>1.0</td>\n",
       "      <td>0.0</td>\n",
       "      <td>0.0</td>\n",
       "      <td>0.0</td>\n",
       "    </tr>\n",
       "    <tr>\n",
       "      <th>97</th>\n",
       "      <td>GBA</td>\n",
       "      <td>2.0</td>\n",
       "      <td>Racing</td>\n",
       "      <td>2.0</td>\n",
       "      <td>0.0</td>\n",
       "      <td>T</td>\n",
       "      <td>1.0</td>\n",
       "      <td>0.0</td>\n",
       "      <td>0.0</td>\n",
       "      <td>0.0</td>\n",
       "    </tr>\n",
       "    <tr>\n",
       "      <th>98</th>\n",
       "      <td>GC</td>\n",
       "      <td>2.0</td>\n",
       "      <td>Racing</td>\n",
       "      <td>3.0</td>\n",
       "      <td>0.0</td>\n",
       "      <td>E</td>\n",
       "      <td>4.0</td>\n",
       "      <td>0.0</td>\n",
       "      <td>0.0</td>\n",
       "      <td>0.0</td>\n",
       "    </tr>\n",
       "    <tr>\n",
       "      <th>99</th>\n",
       "      <td>XB</td>\n",
       "      <td>3.0</td>\n",
       "      <td>Shooter</td>\n",
       "      <td>4.0</td>\n",
       "      <td>0.0</td>\n",
       "      <td>T</td>\n",
       "      <td>4.0</td>\n",
       "      <td>0.0</td>\n",
       "      <td>0.0</td>\n",
       "      <td>1.0</td>\n",
       "    </tr>\n",
       "  </tbody>\n",
       "</table>\n",
       "<p>100 rows × 10 columns</p>\n",
       "</div>"
      ]
     },
     "metadata": {},
     "output_type": "display_data"
    }
   ],
   "metadata": {
    "datalore": {
     "node_id": "sxudvVClE2LYAGaI7txEdV",
     "type": "CODE",
     "hide_input_from_viewers": false,
     "hide_output_from_viewers": false
    }
   }
  },
  {
   "cell_type": "code",
   "source": [
    "\n",
    "data_rmse = []\n",
    "data_mape = []\n",
    "data_r2 = []\n",
    "\n",
    "to_discr = [2, 3, 5, 6, 7, 8, 9]\n",
    "r2, rmse, mae = get_scores(r_sampled, sample_K2)\n",
    "data_r2.append(r2)\n",
    "data_rmse.append(rmse)\n",
    "data_mape.append(mae)\n",
    "\n",
    "to_discr = [1, 4,  5, 6, 7, 8, 9]\n",
    "r2, rmse, mae = get_scores(r_sampled, sample_Bic)\n",
    "data_r2.append(r2)\n",
    "data_rmse.append(rmse)\n",
    "data_mape.append(mae)\n",
    "\n",
    "to_discr = [1, 2, 3, 4, 5, 6, 7]\n",
    "r2, rmse, mae = get_scores(r_sampled, sample_BDeu)\n",
    "data_r2.append(r2)\n",
    "data_rmse.append(rmse)\n",
    "data_mape.append(mae)\n",
    "\n",
    "to_discr = [0,1,2,3,4,5,6]\n",
    "r2, rmse, mae = get_scores(r_sampled, sample_our)\n",
    "data_r2.append(r2)\n",
    "data_rmse.append(rmse)\n",
    "data_mape.append(mae)\n",
    "\n",
    "to_discr = [1, 3, 4, 6, 7, 8, 9]\n",
    "r2, rmse, mae = get_scores(r_sampled, sample_tree)\n",
    "data_r2.append(r2)\n",
    "data_rmse.append(rmse)\n",
    "data_mape.append(mae)"
   ],
   "execution_count": 164,
   "outputs": [
    {
     "name": "stdout",
     "text": [
      "R-2 score is: 7.081591889056935e-05\n",
      "RMSE is: 2.158724469194803\n",
      "MAE is: 1.5985236062602195\n"
     ],
     "output_type": "stream"
    },
    {
     "ename": "ValueError",
     "evalue": "ValueError: could not convert string to float: 'PS3'",
     "traceback": [
      "\u001B[0;31m---------------------------------------------------------------------------",
      "Traceback (most recent call last)",
      "    at line 12 in <module>",
      "    at line 9 in get_scores(data, samples, descritizer)",
      "    at line 366 in inverse_transform(self, Xt)",
      "    at line 738 in check_array(array, accept_sparse, accept_large_sparse, dtype, order, copy, force_all_finite, ensure_2d, allow_nd, ensure_min_samples, ensure_min_features, estimator)",
      "ValueError: could not convert string to float: 'PS3'"
     ],
     "output_type": "error"
    }
   ],
   "metadata": {
    "datalore": {
     "node_id": "6uSI8IMQYnigMPnfP4fE3M",
     "type": "CODE",
     "hide_input_from_viewers": false,
     "hide_output_from_viewers": false
    }
   }
  },
  {
   "cell_type": "code",
   "source": [
    "plt.figure(figsize=(10, 5))\n",
    "x = [\"K2\", \"Bic\",\"BDeu\", \"hand_crafted\", \"tree\"]\n",
    "# y = [0.8242023774658618, 0.8898068766957087, 0.9200255171923536]\n",
    "# y = data_aucs.values\n",
    "plt.bar(x, [i*100 for i in data_mape])\n",
    "plt.title('MAPE scores of different methods')\n",
    "plt.xlabel('Methods')\n",
    "plt.ylabel('MAPE, %')\n",
    "\n",
    "plt.show()"
   ],
   "execution_count": 501,
   "outputs": [
    {
     "data": {
      "image/png": "[encoded data removed]"
     },
     "metadata": {
      "image/png": {}
     },
     "output_type": "display_data"
    }
   ],
   "metadata": {
    "datalore": {
     "node_id": "oXZx5FRhKpH3IaGIU09B1n",
     "type": "CODE",
     "hide_input_from_viewers": false,
     "hide_output_from_viewers": false
    }
   }
  },
  {
   "cell_type": "code",
   "source": [
    "plt.figure(figsize=(10, 5))\n",
    "x = [\"K2\", \"Bic\",\"BDeu\", \"hand_crafted\", \"tree\"]\n",
    "# y = [0.8242023774658618, 0.8898068766957087, 0.9200255171923536]\n",
    "# y = data_aucs.values\n",
    "plt.bar(x, [i*100 for i in data_r2])\n",
    "plt.title('R2 scores of different methods')\n",
    "plt.xlabel('Methods')\n",
    "plt.ylabel('R2, %')\n",
    "\n",
    "plt.show()"
   ],
   "execution_count": 502,
   "outputs": [
    {
     "data": {
      "image/png": "[encoded data removed]"
     },
     "metadata": {
      "image/png": {}
     },
     "output_type": "display_data"
    }
   ],
   "metadata": {
    "datalore": {
     "node_id": "TXBZt2mTAw4mGFAxvKYd42",
     "type": "CODE",
     "hide_input_from_viewers": false,
     "hide_output_from_viewers": false
    }
   }
  },
  {
   "cell_type": "code",
   "source": [
    "plt.figure(figsize=(10, 5))\n",
    "x = [\"K2\", \"Bic\",\"BDeu\", \"hand_crafted\", \"tree\"]\n",
    "# y = [0.8242023774658618, 0.8898068766957087, 0.9200255171923536]\n",
    "# y = data_aucs.values\n",
    "plt.bar(x, [i*100 for i in data_rmse])\n",
    "plt.title('RMSE scores of different methods')\n",
    "plt.xlabel('Methods')\n",
    "plt.ylabel('RMSE, %')\n",
    "\n",
    "plt.show()"
   ],
   "execution_count": 503,
   "outputs": [
    {
     "data": {
      "image/png": "[encoded data removed]"
     },
     "metadata": {
      "image/png": {}
     },
     "output_type": "display_data"
    }
   ],
   "metadata": {
    "datalore": {
     "node_id": "2t95fIrzmEBSDJtF9lDcJL",
     "type": "CODE",
     "hide_input_from_viewers": false,
     "hide_output_from_viewers": false
    }
   }
  },
  {
   "cell_type": "code",
   "source": [
    "r, p = scipy.stats.pearsonr(x, y)"
   ],
   "execution_count": null,
   "outputs": [],
   "metadata": {
    "datalore": {
     "node_id": "ASxEvRhnraGoe1jx9PYxnL",
     "type": "CODE",
     "hide_input_from_viewers": false,
     "hide_output_from_viewers": false
    }
   }
  }
 ],
 "metadata": {
  "widgets": {
   "application/vnd.jupyter.widget-state+json": {
    "version_major": 2,
    "version_minor": 0,
    "state": {
     "beb1b4e4ec8a48f4b4bd37495bda1d86": {
      "model_name": "LayoutModel",
      "model_module": "@jupyter-widgets/base",
      "model_module_version": "1.2.0",
      "state": {
       "_model_module": "@jupyter-widgets/base",
       "_model_module_version": "1.2.0",
       "_model_name": "LayoutModel",
       "_view_count": null,
       "_view_module": "@jupyter-widgets/base",
       "_view_module_version": "1.2.0",
       "_view_name": "LayoutView",
       "align_content": null,
       "align_items": null,
       "align_self": null,
       "border": null,
       "bottom": null,
       "display": null,
       "flex": null,
       "flex_flow": null,
       "grid_area": null,
       "grid_auto_columns": null,
       "grid_auto_flow": null,
       "grid_auto_rows": null,
       "grid_column": null,
       "grid_gap": null,
       "grid_row": null,
       "grid_template_areas": null,
       "grid_template_columns": null,
       "grid_template_rows": null,
       "height": null,
       "justify_content": null,
       "justify_items": null,
       "left": null,
       "margin": null,
       "max_height": null,
       "max_width": null,
       "min_height": null,
       "min_width": null,
       "object_fit": null,
       "object_position": null,
       "order": null,
       "overflow": null,
       "overflow_x": null,
       "overflow_y": null,
       "padding": null,
       "right": null,
       "top": null,
       "visibility": null,
       "width": null
      }
     },
     "34916107be954e95a85f1adedfe6fa36": {
      "model_name": "ProgressStyleModel",
      "model_module": "@jupyter-widgets/controls",
      "model_module_version": "1.5.0",
      "state": {
       "_model_module": "@jupyter-widgets/controls",
       "_model_module_version": "1.5.0",
       "_model_name": "ProgressStyleModel",
       "_view_count": null,
       "_view_module": "@jupyter-widgets/base",
       "_view_module_version": "1.2.0",
       "_view_name": "StyleView",
       "bar_color": null,
       "description_width": ""
      }
     },
     "59c4d2d5f42d42d5ba7287fddc127fce": {
      "model_name": "FloatProgressModel",
      "model_module": "@jupyter-widgets/controls",
      "model_module_version": "1.5.0",
      "state": {
       "_dom_classes": [],
       "_model_module": "@jupyter-widgets/controls",
       "_model_module_version": "1.5.0",
       "_model_name": "FloatProgressModel",
       "_view_count": null,
       "_view_module": "@jupyter-widgets/controls",
       "_view_module_version": "1.5.0",
       "_view_name": "ProgressView",
       "bar_style": "danger",
       "description": "",
       "description_tooltip": null,
       "layout": "IPY_MODEL_beb1b4e4ec8a48f4b4bd37495bda1d86",
       "max": 1000000,
       "min": 0,
       "orientation": "horizontal",
       "style": "IPY_MODEL_34916107be954e95a85f1adedfe6fa36",
       "value": 13
      }
     },
     "4fe8d3aaeaef482f9349785511f3a363": {
      "model_name": "LayoutModel",
      "model_module": "@jupyter-widgets/base",
      "model_module_version": "1.2.0",
      "state": {
       "_model_module": "@jupyter-widgets/base",
       "_model_module_version": "1.2.0",
       "_model_name": "LayoutModel",
       "_view_count": null,
       "_view_module": "@jupyter-widgets/base",
       "_view_module_version": "1.2.0",
       "_view_name": "LayoutView",
       "align_content": null,
       "align_items": null,
       "align_self": null,
       "border": null,
       "bottom": null,
       "display": null,
       "flex": null,
       "flex_flow": null,
       "grid_area": null,
       "grid_auto_columns": null,
       "grid_auto_flow": null,
       "grid_auto_rows": null,
       "grid_column": null,
       "grid_gap": null,
       "grid_row": null,
       "grid_template_areas": null,
       "grid_template_columns": null,
       "grid_template_rows": null,
       "height": null,
       "justify_content": null,
       "justify_items": null,
       "left": null,
       "margin": null,
       "max_height": null,
       "max_width": null,
       "min_height": null,
       "min_width": null,
       "object_fit": null,
       "object_position": null,
       "order": null,
       "overflow": null,
       "overflow_x": null,
       "overflow_y": null,
       "padding": null,
       "right": null,
       "top": null,
       "visibility": null,
       "width": null
      }
     },
     "69c3af40082946b89255e87898a870d3": {
      "model_name": "DescriptionStyleModel",
      "model_module": "@jupyter-widgets/controls",
      "model_module_version": "1.5.0",
      "state": {
       "_model_module": "@jupyter-widgets/controls",
       "_model_module_version": "1.5.0",
       "_model_name": "DescriptionStyleModel",
       "_view_count": null,
       "_view_module": "@jupyter-widgets/base",
       "_view_module_version": "1.2.0",
       "_view_name": "StyleView",
       "description_width": ""
      }
     },
     "39a515237b1640c98b5fa9f50ccd050c": {
      "model_name": "HTMLModel",
      "model_module": "@jupyter-widgets/controls",
      "model_module_version": "1.5.0",
      "state": {
       "_dom_classes": [],
       "_model_module": "@jupyter-widgets/controls",
       "_model_module_version": "1.5.0",
       "_model_name": "HTMLModel",
       "_view_count": null,
       "_view_module": "@jupyter-widgets/controls",
       "_view_module_version": "1.5.0",
       "_view_name": "HTMLView",
       "description": "",
       "description_tooltip": null,
       "layout": "IPY_MODEL_4fe8d3aaeaef482f9349785511f3a363",
       "placeholder": "​",
       "style": "IPY_MODEL_69c3af40082946b89255e87898a870d3",
       "value": "  0%",
       "disabled": false
      }
     },
     "d5a856e4c6c345b18859f9eb062af1e2": {
      "model_name": "LayoutModel",
      "model_module": "@jupyter-widgets/base",
      "model_module_version": "1.2.0",
      "state": {
       "_model_module": "@jupyter-widgets/base",
       "_model_module_version": "1.2.0",
       "_model_name": "LayoutModel",
       "_view_count": null,
       "_view_module": "@jupyter-widgets/base",
       "_view_module_version": "1.2.0",
       "_view_name": "LayoutView",
       "align_content": null,
       "align_items": null,
       "align_self": null,
       "border": null,
       "bottom": null,
       "display": null,
       "flex": null,
       "flex_flow": null,
       "grid_area": null,
       "grid_auto_columns": null,
       "grid_auto_flow": null,
       "grid_auto_rows": null,
       "grid_column": null,
       "grid_gap": null,
       "grid_row": null,
       "grid_template_areas": null,
       "grid_template_columns": null,
       "grid_template_rows": null,
       "height": null,
       "justify_content": null,
       "justify_items": null,
       "left": null,
       "margin": null,
       "max_height": null,
       "max_width": null,
       "min_height": null,
       "min_width": null,
       "object_fit": null,
       "object_position": null,
       "order": null,
       "overflow": null,
       "overflow_x": null,
       "overflow_y": null,
       "padding": null,
       "right": null,
       "top": null,
       "visibility": null,
       "width": null
      }
     },
     "29eff35bfe9d4c1599d63ea51a60fe11": {
      "model_name": "DescriptionStyleModel",
      "model_module": "@jupyter-widgets/controls",
      "model_module_version": "1.5.0",
      "state": {
       "_model_module": "@jupyter-widgets/controls",
       "_model_module_version": "1.5.0",
       "_model_name": "DescriptionStyleModel",
       "_view_count": null,
       "_view_module": "@jupyter-widgets/base",
       "_view_module_version": "1.2.0",
       "_view_name": "StyleView",
       "description_width": ""
      }
     },
     "b109438342794f6981e3274c2bbf2026": {
      "model_name": "HTMLModel",
      "model_module": "@jupyter-widgets/controls",
      "model_module_version": "1.5.0",
      "state": {
       "_dom_classes": [],
       "_model_module": "@jupyter-widgets/controls",
       "_model_module_version": "1.5.0",
       "_model_name": "HTMLModel",
       "_view_count": null,
       "_view_module": "@jupyter-widgets/controls",
       "_view_module_version": "1.5.0",
       "_view_name": "HTMLView",
       "description": "",
       "description_tooltip": null,
       "layout": "IPY_MODEL_d5a856e4c6c345b18859f9eb062af1e2",
       "placeholder": "​",
       "style": "IPY_MODEL_29eff35bfe9d4c1599d63ea51a60fe11",
       "value": " 13/1000000 [00:01&lt;25:16:42, 10.99it/s]",
       "disabled": false
      }
     },
     "0729539b5abb4d9fa93a036618a2c5c7": {
      "model_name": "LayoutModel",
      "model_module": "@jupyter-widgets/base",
      "model_module_version": "1.2.0",
      "state": {
       "_model_module": "@jupyter-widgets/base",
       "_model_module_version": "1.2.0",
       "_model_name": "LayoutModel",
       "_view_count": null,
       "_view_module": "@jupyter-widgets/base",
       "_view_module_version": "1.2.0",
       "_view_name": "LayoutView",
       "align_content": null,
       "align_items": null,
       "align_self": null,
       "border": null,
       "bottom": null,
       "display": null,
       "flex": null,
       "flex_flow": null,
       "grid_area": null,
       "grid_auto_columns": null,
       "grid_auto_flow": null,
       "grid_auto_rows": null,
       "grid_column": null,
       "grid_gap": null,
       "grid_row": null,
       "grid_template_areas": null,
       "grid_template_columns": null,
       "grid_template_rows": null,
       "height": null,
       "justify_content": null,
       "justify_items": null,
       "left": null,
       "margin": null,
       "max_height": null,
       "max_width": null,
       "min_height": null,
       "min_width": null,
       "object_fit": null,
       "object_position": null,
       "order": null,
       "overflow": null,
       "overflow_x": null,
       "overflow_y": null,
       "padding": null,
       "right": null,
       "top": null,
       "visibility": null,
       "width": null
      }
     },
     "a877c320fbfc4f7a9f5ebaa58bd820a8": {
      "model_name": "HBoxModel",
      "model_module": "@jupyter-widgets/controls",
      "model_module_version": "1.5.0",
      "state": {
       "_dom_classes": [],
       "_model_module": "@jupyter-widgets/controls",
       "_model_module_version": "1.5.0",
       "_model_name": "HBoxModel",
       "_view_count": null,
       "_view_module": "@jupyter-widgets/controls",
       "_view_module_version": "1.5.0",
       "_view_name": "HBoxView",
       "box_style": "",
       "children": [
        "IPY_MODEL_39a515237b1640c98b5fa9f50ccd050c",
        "IPY_MODEL_59c4d2d5f42d42d5ba7287fddc127fce",
        "IPY_MODEL_b109438342794f6981e3274c2bbf2026"
       ],
       "layout": "IPY_MODEL_0729539b5abb4d9fa93a036618a2c5c7"
      }
     },
     "d283f24fcc194f178f3440b847bbf32d": {
      "model_name": "LayoutModel",
      "model_module": "@jupyter-widgets/base",
      "model_module_version": "1.2.0",
      "state": {
       "_model_module": "@jupyter-widgets/base",
       "_model_module_version": "1.2.0",
       "_model_name": "LayoutModel",
       "_view_count": null,
       "_view_module": "@jupyter-widgets/base",
       "_view_module_version": "1.2.0",
       "_view_name": "LayoutView",
       "align_content": null,
       "align_items": null,
       "align_self": null,
       "border": null,
       "bottom": null,
       "display": null,
       "flex": null,
       "flex_flow": null,
       "grid_area": null,
       "grid_auto_columns": null,
       "grid_auto_flow": null,
       "grid_auto_rows": null,
       "grid_column": null,
       "grid_gap": null,
       "grid_row": null,
       "grid_template_areas": null,
       "grid_template_columns": null,
       "grid_template_rows": null,
       "height": null,
       "justify_content": null,
       "justify_items": null,
       "left": null,
       "margin": null,
       "max_height": null,
       "max_width": null,
       "min_height": null,
       "min_width": null,
       "object_fit": null,
       "object_position": null,
       "order": null,
       "overflow": null,
       "overflow_x": null,
       "overflow_y": null,
       "padding": null,
       "right": null,
       "top": null,
       "visibility": null,
       "width": null
      }
     },
     "bfd56c0750a249c88af206b48b6135c9": {
      "model_name": "ProgressStyleModel",
      "model_module": "@jupyter-widgets/controls",
      "model_module_version": "1.5.0",
      "state": {
       "_model_module": "@jupyter-widgets/controls",
       "_model_module_version": "1.5.0",
       "_model_name": "ProgressStyleModel",
       "_view_count": null,
       "_view_module": "@jupyter-widgets/base",
       "_view_module_version": "1.2.0",
       "_view_name": "StyleView",
       "bar_color": null,
       "description_width": ""
      }
     },
     "a2dadc2479f64fbd8397acc82629116b": {
      "model_name": "FloatProgressModel",
      "model_module": "@jupyter-widgets/controls",
      "model_module_version": "1.5.0",
      "state": {
       "_dom_classes": [],
       "_model_module": "@jupyter-widgets/controls",
       "_model_module_version": "1.5.0",
       "_model_name": "FloatProgressModel",
       "_view_count": null,
       "_view_module": "@jupyter-widgets/controls",
       "_view_module_version": "1.5.0",
       "_view_name": "ProgressView",
       "bar_style": "danger",
       "description": "",
       "description_tooltip": null,
       "layout": "IPY_MODEL_d283f24fcc194f178f3440b847bbf32d",
       "max": 1000000,
       "min": 0,
       "orientation": "horizontal",
       "style": "IPY_MODEL_bfd56c0750a249c88af206b48b6135c9",
       "value": 9
      }
     },
     "e9002c39ad6a42b0af525253c405a504": {
      "model_name": "LayoutModel",
      "model_module": "@jupyter-widgets/base",
      "model_module_version": "1.2.0",
      "state": {
       "_model_module": "@jupyter-widgets/base",
       "_model_module_version": "1.2.0",
       "_model_name": "LayoutModel",
       "_view_count": null,
       "_view_module": "@jupyter-widgets/base",
       "_view_module_version": "1.2.0",
       "_view_name": "LayoutView",
       "align_content": null,
       "align_items": null,
       "align_self": null,
       "border": null,
       "bottom": null,
       "display": null,
       "flex": null,
       "flex_flow": null,
       "grid_area": null,
       "grid_auto_columns": null,
       "grid_auto_flow": null,
       "grid_auto_rows": null,
       "grid_column": null,
       "grid_gap": null,
       "grid_row": null,
       "grid_template_areas": null,
       "grid_template_columns": null,
       "grid_template_rows": null,
       "height": null,
       "justify_content": null,
       "justify_items": null,
       "left": null,
       "margin": null,
       "max_height": null,
       "max_width": null,
       "min_height": null,
       "min_width": null,
       "object_fit": null,
       "object_position": null,
       "order": null,
       "overflow": null,
       "overflow_x": null,
       "overflow_y": null,
       "padding": null,
       "right": null,
       "top": null,
       "visibility": null,
       "width": null
      }
     },
     "ecc5176631444de08e256cf86784e346": {
      "model_name": "DescriptionStyleModel",
      "model_module": "@jupyter-widgets/controls",
      "model_module_version": "1.5.0",
      "state": {
       "_model_module": "@jupyter-widgets/controls",
       "_model_module_version": "1.5.0",
       "_model_name": "DescriptionStyleModel",
       "_view_count": null,
       "_view_module": "@jupyter-widgets/base",
       "_view_module_version": "1.2.0",
       "_view_name": "StyleView",
       "description_width": ""
      }
     },
     "f377dd3b766c4c5dace762235cbdc438": {
      "model_name": "HTMLModel",
      "model_module": "@jupyter-widgets/controls",
      "model_module_version": "1.5.0",
      "state": {
       "_dom_classes": [],
       "_model_module": "@jupyter-widgets/controls",
       "_model_module_version": "1.5.0",
       "_model_name": "HTMLModel",
       "_view_count": null,
       "_view_module": "@jupyter-widgets/controls",
       "_view_module_version": "1.5.0",
       "_view_name": "HTMLView",
       "description": "",
       "description_tooltip": null,
       "layout": "IPY_MODEL_e9002c39ad6a42b0af525253c405a504",
       "placeholder": "​",
       "style": "IPY_MODEL_ecc5176631444de08e256cf86784e346",
       "value": "  0%",
       "disabled": false
      }
     },
     "4db18df7d2c64323b6914ff4db04dbd1": {
      "model_name": "LayoutModel",
      "model_module": "@jupyter-widgets/base",
      "model_module_version": "1.2.0",
      "state": {
       "_model_module": "@jupyter-widgets/base",
       "_model_module_version": "1.2.0",
       "_model_name": "LayoutModel",
       "_view_count": null,
       "_view_module": "@jupyter-widgets/base",
       "_view_module_version": "1.2.0",
       "_view_name": "LayoutView",
       "align_content": null,
       "align_items": null,
       "align_self": null,
       "border": null,
       "bottom": null,
       "display": null,
       "flex": null,
       "flex_flow": null,
       "grid_area": null,
       "grid_auto_columns": null,
       "grid_auto_flow": null,
       "grid_auto_rows": null,
       "grid_column": null,
       "grid_gap": null,
       "grid_row": null,
       "grid_template_areas": null,
       "grid_template_columns": null,
       "grid_template_rows": null,
       "height": null,
       "justify_content": null,
       "justify_items": null,
       "left": null,
       "margin": null,
       "max_height": null,
       "max_width": null,
       "min_height": null,
       "min_width": null,
       "object_fit": null,
       "object_position": null,
       "order": null,
       "overflow": null,
       "overflow_x": null,
       "overflow_y": null,
       "padding": null,
       "right": null,
       "top": null,
       "visibility": null,
       "width": null
      }
     },
     "d449f75c36a544149071319c4cfb9262": {
      "model_name": "DescriptionStyleModel",
      "model_module": "@jupyter-widgets/controls",
      "model_module_version": "1.5.0",
      "state": {
       "_model_module": "@jupyter-widgets/controls",
       "_model_module_version": "1.5.0",
       "_model_name": "DescriptionStyleModel",
       "_view_count": null,
       "_view_module": "@jupyter-widgets/base",
       "_view_module_version": "1.2.0",
       "_view_name": "StyleView",
       "description_width": ""
      }
     },
     "7851836eae104201910a7de8fec12e3a": {
      "model_name": "HTMLModel",
      "model_module": "@jupyter-widgets/controls",
      "model_module_version": "1.5.0",
      "state": {
       "_dom_classes": [],
       "_model_module": "@jupyter-widgets/controls",
       "_model_module_version": "1.5.0",
       "_model_name": "HTMLModel",
       "_view_count": null,
       "_view_module": "@jupyter-widgets/controls",
       "_view_module_version": "1.5.0",
       "_view_name": "HTMLView",
       "description": "",
       "description_tooltip": null,
       "layout": "IPY_MODEL_4db18df7d2c64323b6914ff4db04dbd1",
       "placeholder": "​",
       "style": "IPY_MODEL_d449f75c36a544149071319c4cfb9262",
       "value": " 9/1000000 [00:01&lt;25:47:39, 10.77it/s]",
       "disabled": false
      }
     },
     "0238ecce6f014a9bb81a9805489e4fcc": {
      "model_name": "LayoutModel",
      "model_module": "@jupyter-widgets/base",
      "model_module_version": "1.2.0",
      "state": {
       "_model_module": "@jupyter-widgets/base",
       "_model_module_version": "1.2.0",
       "_model_name": "LayoutModel",
       "_view_count": null,
       "_view_module": "@jupyter-widgets/base",
       "_view_module_version": "1.2.0",
       "_view_name": "LayoutView",
       "align_content": null,
       "align_items": null,
       "align_self": null,
       "border": null,
       "bottom": null,
       "display": null,
       "flex": null,
       "flex_flow": null,
       "grid_area": null,
       "grid_auto_columns": null,
       "grid_auto_flow": null,
       "grid_auto_rows": null,
       "grid_column": null,
       "grid_gap": null,
       "grid_row": null,
       "grid_template_areas": null,
       "grid_template_columns": null,
       "grid_template_rows": null,
       "height": null,
       "justify_content": null,
       "justify_items": null,
       "left": null,
       "margin": null,
       "max_height": null,
       "max_width": null,
       "min_height": null,
       "min_width": null,
       "object_fit": null,
       "object_position": null,
       "order": null,
       "overflow": null,
       "overflow_x": null,
       "overflow_y": null,
       "padding": null,
       "right": null,
       "top": null,
       "visibility": null,
       "width": null
      }
     },
     "7004fcc1b2cc4d54b2d5dcd73a19cfab": {
      "model_name": "HBoxModel",
      "model_module": "@jupyter-widgets/controls",
      "model_module_version": "1.5.0",
      "state": {
       "_dom_classes": [],
       "_model_module": "@jupyter-widgets/controls",
       "_model_module_version": "1.5.0",
       "_model_name": "HBoxModel",
       "_view_count": null,
       "_view_module": "@jupyter-widgets/controls",
       "_view_module_version": "1.5.0",
       "_view_name": "HBoxView",
       "box_style": "",
       "children": [
        "IPY_MODEL_f377dd3b766c4c5dace762235cbdc438",
        "IPY_MODEL_a2dadc2479f64fbd8397acc82629116b",
        "IPY_MODEL_7851836eae104201910a7de8fec12e3a"
       ],
       "layout": "IPY_MODEL_0238ecce6f014a9bb81a9805489e4fcc"
      }
     },
     "da72e3cf34db4c6390e116b5060c708e": {
      "model_name": "LayoutModel",
      "model_module": "@jupyter-widgets/base",
      "model_module_version": "1.2.0",
      "state": {
       "_model_module": "@jupyter-widgets/base",
       "_model_module_version": "1.2.0",
       "_model_name": "LayoutModel",
       "_view_count": null,
       "_view_module": "@jupyter-widgets/base",
       "_view_module_version": "1.2.0",
       "_view_name": "LayoutView",
       "align_content": null,
       "align_items": null,
       "align_self": null,
       "border": null,
       "bottom": null,
       "display": null,
       "flex": null,
       "flex_flow": null,
       "grid_area": null,
       "grid_auto_columns": null,
       "grid_auto_flow": null,
       "grid_auto_rows": null,
       "grid_column": null,
       "grid_gap": null,
       "grid_row": null,
       "grid_template_areas": null,
       "grid_template_columns": null,
       "grid_template_rows": null,
       "height": null,
       "justify_content": null,
       "justify_items": null,
       "left": null,
       "margin": null,
       "max_height": null,
       "max_width": null,
       "min_height": null,
       "min_width": null,
       "object_fit": null,
       "object_position": null,
       "order": null,
       "overflow": null,
       "overflow_x": null,
       "overflow_y": null,
       "padding": null,
       "right": null,
       "top": null,
       "visibility": null,
       "width": null
      }
     },
     "318112227d484f35811624f106047520": {
      "model_name": "ProgressStyleModel",
      "model_module": "@jupyter-widgets/controls",
      "model_module_version": "1.5.0",
      "state": {
       "_model_module": "@jupyter-widgets/controls",
       "_model_module_version": "1.5.0",
       "_model_name": "ProgressStyleModel",
       "_view_count": null,
       "_view_module": "@jupyter-widgets/base",
       "_view_module_version": "1.2.0",
       "_view_name": "StyleView",
       "bar_color": null,
       "description_width": ""
      }
     },
     "1c5599b892eb40f0814ef436ac97a2a5": {
      "model_name": "FloatProgressModel",
      "model_module": "@jupyter-widgets/controls",
      "model_module_version": "1.5.0",
      "state": {
       "_dom_classes": [],
       "_model_module": "@jupyter-widgets/controls",
       "_model_module_version": "1.5.0",
       "_model_name": "FloatProgressModel",
       "_view_count": null,
       "_view_module": "@jupyter-widgets/controls",
       "_view_module_version": "1.5.0",
       "_view_name": "ProgressView",
       "bar_style": "danger",
       "description": "",
       "description_tooltip": null,
       "layout": "IPY_MODEL_da72e3cf34db4c6390e116b5060c708e",
       "max": 1000000,
       "min": 0,
       "orientation": "horizontal",
       "style": "IPY_MODEL_318112227d484f35811624f106047520",
       "value": 12
      }
     },
     "96509f81e210492599019dc08447f28a": {
      "model_name": "LayoutModel",
      "model_module": "@jupyter-widgets/base",
      "model_module_version": "1.2.0",
      "state": {
       "_model_module": "@jupyter-widgets/base",
       "_model_module_version": "1.2.0",
       "_model_name": "LayoutModel",
       "_view_count": null,
       "_view_module": "@jupyter-widgets/base",
       "_view_module_version": "1.2.0",
       "_view_name": "LayoutView",
       "align_content": null,
       "align_items": null,
       "align_self": null,
       "border": null,
       "bottom": null,
       "display": null,
       "flex": null,
       "flex_flow": null,
       "grid_area": null,
       "grid_auto_columns": null,
       "grid_auto_flow": null,
       "grid_auto_rows": null,
       "grid_column": null,
       "grid_gap": null,
       "grid_row": null,
       "grid_template_areas": null,
       "grid_template_columns": null,
       "grid_template_rows": null,
       "height": null,
       "justify_content": null,
       "justify_items": null,
       "left": null,
       "margin": null,
       "max_height": null,
       "max_width": null,
       "min_height": null,
       "min_width": null,
       "object_fit": null,
       "object_position": null,
       "order": null,
       "overflow": null,
       "overflow_x": null,
       "overflow_y": null,
       "padding": null,
       "right": null,
       "top": null,
       "visibility": null,
       "width": null
      }
     },
     "1afcb887e9834c3d9b6bc483c4bf8c08": {
      "model_name": "DescriptionStyleModel",
      "model_module": "@jupyter-widgets/controls",
      "model_module_version": "1.5.0",
      "state": {
       "_model_module": "@jupyter-widgets/controls",
       "_model_module_version": "1.5.0",
       "_model_name": "DescriptionStyleModel",
       "_view_count": null,
       "_view_module": "@jupyter-widgets/base",
       "_view_module_version": "1.2.0",
       "_view_name": "StyleView",
       "description_width": ""
      }
     },
     "2cbbad3ac1dc4d84a141e6a154d56126": {
      "model_name": "HTMLModel",
      "model_module": "@jupyter-widgets/controls",
      "model_module_version": "1.5.0",
      "state": {
       "_dom_classes": [],
       "_model_module": "@jupyter-widgets/controls",
       "_model_module_version": "1.5.0",
       "_model_name": "HTMLModel",
       "_view_count": null,
       "_view_module": "@jupyter-widgets/controls",
       "_view_module_version": "1.5.0",
       "_view_name": "HTMLView",
       "description": "",
       "description_tooltip": null,
       "layout": "IPY_MODEL_96509f81e210492599019dc08447f28a",
       "placeholder": "​",
       "style": "IPY_MODEL_1afcb887e9834c3d9b6bc483c4bf8c08",
       "value": "  0%",
       "disabled": false
      }
     },
     "cff04f3c354245328134c851a0dc0e28": {
      "model_name": "LayoutModel",
      "model_module": "@jupyter-widgets/base",
      "model_module_version": "1.2.0",
      "state": {
       "_model_module": "@jupyter-widgets/base",
       "_model_module_version": "1.2.0",
       "_model_name": "LayoutModel",
       "_view_count": null,
       "_view_module": "@jupyter-widgets/base",
       "_view_module_version": "1.2.0",
       "_view_name": "LayoutView",
       "align_content": null,
       "align_items": null,
       "align_self": null,
       "border": null,
       "bottom": null,
       "display": null,
       "flex": null,
       "flex_flow": null,
       "grid_area": null,
       "grid_auto_columns": null,
       "grid_auto_flow": null,
       "grid_auto_rows": null,
       "grid_column": null,
       "grid_gap": null,
       "grid_row": null,
       "grid_template_areas": null,
       "grid_template_columns": null,
       "grid_template_rows": null,
       "height": null,
       "justify_content": null,
       "justify_items": null,
       "left": null,
       "margin": null,
       "max_height": null,
       "max_width": null,
       "min_height": null,
       "min_width": null,
       "object_fit": null,
       "object_position": null,
       "order": null,
       "overflow": null,
       "overflow_x": null,
       "overflow_y": null,
       "padding": null,
       "right": null,
       "top": null,
       "visibility": null,
       "width": null
      }
     },
     "8ab0e07149ae4f90ae25478fc089130f": {
      "model_name": "DescriptionStyleModel",
      "model_module": "@jupyter-widgets/controls",
      "model_module_version": "1.5.0",
      "state": {
       "_model_module": "@jupyter-widgets/controls",
       "_model_module_version": "1.5.0",
       "_model_name": "DescriptionStyleModel",
       "_view_count": null,
       "_view_module": "@jupyter-widgets/base",
       "_view_module_version": "1.2.0",
       "_view_name": "StyleView",
       "description_width": ""
      }
     },
     "eefe92d52c6d45edb66f323dd4bf97c4": {
      "model_name": "HTMLModel",
      "model_module": "@jupyter-widgets/controls",
      "model_module_version": "1.5.0",
      "state": {
       "_dom_classes": [],
       "_model_module": "@jupyter-widgets/controls",
       "_model_module_version": "1.5.0",
       "_model_name": "HTMLModel",
       "_view_count": null,
       "_view_module": "@jupyter-widgets/controls",
       "_view_module_version": "1.5.0",
       "_view_name": "HTMLView",
       "description": "",
       "description_tooltip": null,
       "layout": "IPY_MODEL_cff04f3c354245328134c851a0dc0e28",
       "placeholder": "​",
       "style": "IPY_MODEL_8ab0e07149ae4f90ae25478fc089130f",
       "value": " 12/1000000 [00:01&lt;24:40:54, 11.25it/s]",
       "disabled": false
      }
     },
     "bcbb4d37d0554b75bcdf96b92e57d863": {
      "model_name": "LayoutModel",
      "model_module": "@jupyter-widgets/base",
      "model_module_version": "1.2.0",
      "state": {
       "_model_module": "@jupyter-widgets/base",
       "_model_module_version": "1.2.0",
       "_model_name": "LayoutModel",
       "_view_count": null,
       "_view_module": "@jupyter-widgets/base",
       "_view_module_version": "1.2.0",
       "_view_name": "LayoutView",
       "align_content": null,
       "align_items": null,
       "align_self": null,
       "border": null,
       "bottom": null,
       "display": null,
       "flex": null,
       "flex_flow": null,
       "grid_area": null,
       "grid_auto_columns": null,
       "grid_auto_flow": null,
       "grid_auto_rows": null,
       "grid_column": null,
       "grid_gap": null,
       "grid_row": null,
       "grid_template_areas": null,
       "grid_template_columns": null,
       "grid_template_rows": null,
       "height": null,
       "justify_content": null,
       "justify_items": null,
       "left": null,
       "margin": null,
       "max_height": null,
       "max_width": null,
       "min_height": null,
       "min_width": null,
       "object_fit": null,
       "object_position": null,
       "order": null,
       "overflow": null,
       "overflow_x": null,
       "overflow_y": null,
       "padding": null,
       "right": null,
       "top": null,
       "visibility": null,
       "width": null
      }
     },
     "c262f47a377049f2859c643596894f8e": {
      "model_name": "HBoxModel",
      "model_module": "@jupyter-widgets/controls",
      "model_module_version": "1.5.0",
      "state": {
       "_dom_classes": [],
       "_model_module": "@jupyter-widgets/controls",
       "_model_module_version": "1.5.0",
       "_model_name": "HBoxModel",
       "_view_count": null,
       "_view_module": "@jupyter-widgets/controls",
       "_view_module_version": "1.5.0",
       "_view_name": "HBoxView",
       "box_style": "",
       "children": [
        "IPY_MODEL_2cbbad3ac1dc4d84a141e6a154d56126",
        "IPY_MODEL_1c5599b892eb40f0814ef436ac97a2a5",
        "IPY_MODEL_eefe92d52c6d45edb66f323dd4bf97c4"
       ],
       "layout": "IPY_MODEL_bcbb4d37d0554b75bcdf96b92e57d863"
      }
     },
     "0e9ee11e74da4c72a83995ee1d8902f2": {
      "model_name": "LayoutModel",
      "model_module": "@jupyter-widgets/base",
      "model_module_version": "1.2.0",
      "state": {
       "_model_module": "@jupyter-widgets/base",
       "_model_module_version": "1.2.0",
       "_model_name": "LayoutModel",
       "_view_count": null,
       "_view_module": "@jupyter-widgets/base",
       "_view_module_version": "1.2.0",
       "_view_name": "LayoutView",
       "align_content": null,
       "align_items": null,
       "align_self": null,
       "border": null,
       "bottom": null,
       "display": null,
       "flex": null,
       "flex_flow": null,
       "grid_area": null,
       "grid_auto_columns": null,
       "grid_auto_flow": null,
       "grid_auto_rows": null,
       "grid_column": null,
       "grid_gap": null,
       "grid_row": null,
       "grid_template_areas": null,
       "grid_template_columns": null,
       "grid_template_rows": null,
       "height": null,
       "justify_content": null,
       "justify_items": null,
       "left": null,
       "margin": null,
       "max_height": null,
       "max_width": null,
       "min_height": null,
       "min_width": null,
       "object_fit": null,
       "object_position": null,
       "order": null,
       "overflow": null,
       "overflow_x": null,
       "overflow_y": null,
       "padding": null,
       "right": null,
       "top": null,
       "visibility": null,
       "width": null
      }
     },
     "0d7950a7781e4972ba6c1c64336eb6a1": {
      "model_name": "ProgressStyleModel",
      "model_module": "@jupyter-widgets/controls",
      "model_module_version": "1.5.0",
      "state": {
       "_model_module": "@jupyter-widgets/controls",
       "_model_module_version": "1.5.0",
       "_model_name": "ProgressStyleModel",
       "_view_count": null,
       "_view_module": "@jupyter-widgets/base",
       "_view_module_version": "1.2.0",
       "_view_name": "StyleView",
       "bar_color": null,
       "description_width": ""
      }
     },
     "f2e2679d81d04dc18c0617da889f1540": {
      "model_name": "FloatProgressModel",
      "model_module": "@jupyter-widgets/controls",
      "model_module_version": "1.5.0",
      "state": {
       "_dom_classes": [],
       "_model_module": "@jupyter-widgets/controls",
       "_model_module_version": "1.5.0",
       "_model_name": "FloatProgressModel",
       "_view_count": null,
       "_view_module": "@jupyter-widgets/controls",
       "_view_module_version": "1.5.0",
       "_view_name": "ProgressView",
       "bar_style": "success",
       "description": "",
       "description_tooltip": null,
       "layout": "IPY_MODEL_0e9ee11e74da4c72a83995ee1d8902f2",
       "max": 45,
       "min": 0,
       "orientation": "horizontal",
       "style": "IPY_MODEL_0d7950a7781e4972ba6c1c64336eb6a1",
       "value": 45
      }
     },
     "49903088641b42ac93fec49db051097e": {
      "model_name": "LayoutModel",
      "model_module": "@jupyter-widgets/base",
      "model_module_version": "1.2.0",
      "state": {
       "_model_module": "@jupyter-widgets/base",
       "_model_module_version": "1.2.0",
       "_model_name": "LayoutModel",
       "_view_count": null,
       "_view_module": "@jupyter-widgets/base",
       "_view_module_version": "1.2.0",
       "_view_name": "LayoutView",
       "align_content": null,
       "align_items": null,
       "align_self": null,
       "border": null,
       "bottom": null,
       "display": null,
       "flex": null,
       "flex_flow": null,
       "grid_area": null,
       "grid_auto_columns": null,
       "grid_auto_flow": null,
       "grid_auto_rows": null,
       "grid_column": null,
       "grid_gap": null,
       "grid_row": null,
       "grid_template_areas": null,
       "grid_template_columns": null,
       "grid_template_rows": null,
       "height": null,
       "justify_content": null,
       "justify_items": null,
       "left": null,
       "margin": null,
       "max_height": null,
       "max_width": null,
       "min_height": null,
       "min_width": null,
       "object_fit": null,
       "object_position": null,
       "order": null,
       "overflow": null,
       "overflow_x": null,
       "overflow_y": null,
       "padding": null,
       "right": null,
       "top": null,
       "visibility": null,
       "width": null
      }
     },
     "0499c3f5a1c34fafa4c24067013e9c23": {
      "model_name": "DescriptionStyleModel",
      "model_module": "@jupyter-widgets/controls",
      "model_module_version": "1.5.0",
      "state": {
       "_model_module": "@jupyter-widgets/controls",
       "_model_module_version": "1.5.0",
       "_model_name": "DescriptionStyleModel",
       "_view_count": null,
       "_view_module": "@jupyter-widgets/base",
       "_view_module_version": "1.2.0",
       "_view_name": "StyleView",
       "description_width": ""
      }
     },
     "040b3170ded7417a9f8f6fd1ac343e77": {
      "model_name": "HTMLModel",
      "model_module": "@jupyter-widgets/controls",
      "model_module_version": "1.5.0",
      "state": {
       "_dom_classes": [],
       "_model_module": "@jupyter-widgets/controls",
       "_model_module_version": "1.5.0",
       "_model_name": "HTMLModel",
       "_view_count": null,
       "_view_module": "@jupyter-widgets/controls",
       "_view_module_version": "1.5.0",
       "_view_name": "HTMLView",
       "description": "",
       "description_tooltip": null,
       "layout": "IPY_MODEL_49903088641b42ac93fec49db051097e",
       "placeholder": "​",
       "style": "IPY_MODEL_0499c3f5a1c34fafa4c24067013e9c23",
       "value": "Building tree: 100%",
       "disabled": false
      }
     },
     "9aec249e57034cb08d246c5d43d63128": {
      "model_name": "LayoutModel",
      "model_module": "@jupyter-widgets/base",
      "model_module_version": "1.2.0",
      "state": {
       "_model_module": "@jupyter-widgets/base",
       "_model_module_version": "1.2.0",
       "_model_name": "LayoutModel",
       "_view_count": null,
       "_view_module": "@jupyter-widgets/base",
       "_view_module_version": "1.2.0",
       "_view_name": "LayoutView",
       "align_content": null,
       "align_items": null,
       "align_self": null,
       "border": null,
       "bottom": null,
       "display": null,
       "flex": null,
       "flex_flow": null,
       "grid_area": null,
       "grid_auto_columns": null,
       "grid_auto_flow": null,
       "grid_auto_rows": null,
       "grid_column": null,
       "grid_gap": null,
       "grid_row": null,
       "grid_template_areas": null,
       "grid_template_columns": null,
       "grid_template_rows": null,
       "height": null,
       "justify_content": null,
       "justify_items": null,
       "left": null,
       "margin": null,
       "max_height": null,
       "max_width": null,
       "min_height": null,
       "min_width": null,
       "object_fit": null,
       "object_position": null,
       "order": null,
       "overflow": null,
       "overflow_x": null,
       "overflow_y": null,
       "padding": null,
       "right": null,
       "top": null,
       "visibility": null,
       "width": null
      }
     },
     "5282a1eb038c45aa8655caffd5b9dff9": {
      "model_name": "DescriptionStyleModel",
      "model_module": "@jupyter-widgets/controls",
      "model_module_version": "1.5.0",
      "state": {
       "_model_module": "@jupyter-widgets/controls",
       "_model_module_version": "1.5.0",
       "_model_name": "DescriptionStyleModel",
       "_view_count": null,
       "_view_module": "@jupyter-widgets/base",
       "_view_module_version": "1.2.0",
       "_view_name": "StyleView",
       "description_width": ""
      }
     },
     "07847c6b28c84d95ae58adaa78db1524": {
      "model_name": "HTMLModel",
      "model_module": "@jupyter-widgets/controls",
      "model_module_version": "1.5.0",
      "state": {
       "_dom_classes": [],
       "_model_module": "@jupyter-widgets/controls",
       "_model_module_version": "1.5.0",
       "_model_name": "HTMLModel",
       "_view_count": null,
       "_view_module": "@jupyter-widgets/controls",
       "_view_module_version": "1.5.0",
       "_view_name": "HTMLView",
       "description": "",
       "description_tooltip": null,
       "layout": "IPY_MODEL_9aec249e57034cb08d246c5d43d63128",
       "placeholder": "​",
       "style": "IPY_MODEL_5282a1eb038c45aa8655caffd5b9dff9",
       "value": " 45/45.0 [00:00&lt;00:00, 201.87it/s]",
       "disabled": false
      }
     },
     "c1d1f7596c114da39ab848c46931e1c3": {
      "model_name": "LayoutModel",
      "model_module": "@jupyter-widgets/base",
      "model_module_version": "1.2.0",
      "state": {
       "_model_module": "@jupyter-widgets/base",
       "_model_module_version": "1.2.0",
       "_model_name": "LayoutModel",
       "_view_count": null,
       "_view_module": "@jupyter-widgets/base",
       "_view_module_version": "1.2.0",
       "_view_name": "LayoutView",
       "align_content": null,
       "align_items": null,
       "align_self": null,
       "border": null,
       "bottom": null,
       "display": null,
       "flex": null,
       "flex_flow": null,
       "grid_area": null,
       "grid_auto_columns": null,
       "grid_auto_flow": null,
       "grid_auto_rows": null,
       "grid_column": null,
       "grid_gap": null,
       "grid_row": null,
       "grid_template_areas": null,
       "grid_template_columns": null,
       "grid_template_rows": null,
       "height": null,
       "justify_content": null,
       "justify_items": null,
       "left": null,
       "margin": null,
       "max_height": null,
       "max_width": null,
       "min_height": null,
       "min_width": null,
       "object_fit": null,
       "object_position": null,
       "order": null,
       "overflow": null,
       "overflow_x": null,
       "overflow_y": null,
       "padding": null,
       "right": null,
       "top": null,
       "visibility": null,
       "width": null
      }
     },
     "ea74cff6dce348eda4f1582f8455fe98": {
      "model_name": "HBoxModel",
      "model_module": "@jupyter-widgets/controls",
      "model_module_version": "1.5.0",
      "state": {
       "_dom_classes": [],
       "_model_module": "@jupyter-widgets/controls",
       "_model_module_version": "1.5.0",
       "_model_name": "HBoxModel",
       "_view_count": null,
       "_view_module": "@jupyter-widgets/controls",
       "_view_module_version": "1.5.0",
       "_view_name": "HBoxView",
       "box_style": "",
       "children": [
        "IPY_MODEL_040b3170ded7417a9f8f6fd1ac343e77",
        "IPY_MODEL_f2e2679d81d04dc18c0617da889f1540",
        "IPY_MODEL_07847c6b28c84d95ae58adaa78db1524"
       ],
       "layout": "IPY_MODEL_c1d1f7596c114da39ab848c46931e1c3"
      }
     },
     "dca3f5b955cf4953a5d778ec06e9f738": {
      "model_name": "LayoutModel",
      "model_module": "@jupyter-widgets/base",
      "model_module_version": "1.2.0",
      "state": {
       "_model_module": "@jupyter-widgets/base",
       "_model_module_version": "1.2.0",
       "_model_name": "LayoutModel",
       "_view_count": null,
       "_view_module": "@jupyter-widgets/base",
       "_view_module_version": "1.2.0",
       "_view_name": "LayoutView",
       "align_content": null,
       "align_items": null,
       "align_self": null,
       "border": null,
       "bottom": null,
       "display": null,
       "flex": null,
       "flex_flow": null,
       "grid_area": null,
       "grid_auto_columns": null,
       "grid_auto_flow": null,
       "grid_auto_rows": null,
       "grid_column": null,
       "grid_gap": null,
       "grid_row": null,
       "grid_template_areas": null,
       "grid_template_columns": null,
       "grid_template_rows": null,
       "height": null,
       "justify_content": null,
       "justify_items": null,
       "left": null,
       "margin": null,
       "max_height": null,
       "max_width": null,
       "min_height": null,
       "min_width": null,
       "object_fit": null,
       "object_position": null,
       "order": null,
       "overflow": null,
       "overflow_x": null,
       "overflow_y": null,
       "padding": null,
       "right": null,
       "top": null,
       "visibility": null,
       "width": null
      }
     },
     "5676cae2892842129b3b7de99e67fd76": {
      "model_name": "ProgressStyleModel",
      "model_module": "@jupyter-widgets/controls",
      "model_module_version": "1.5.0",
      "state": {
       "_model_module": "@jupyter-widgets/controls",
       "_model_module_version": "1.5.0",
       "_model_name": "ProgressStyleModel",
       "_view_count": null,
       "_view_module": "@jupyter-widgets/base",
       "_view_module_version": "1.2.0",
       "_view_name": "StyleView",
       "bar_color": null,
       "description_width": ""
      }
     },
     "4f86603a545141e1aa758ba17322ba29": {
      "model_name": "FloatProgressModel",
      "model_module": "@jupyter-widgets/controls",
      "model_module_version": "1.5.0",
      "state": {
       "_dom_classes": [],
       "_model_module": "@jupyter-widgets/controls",
       "_model_module_version": "1.5.0",
       "_model_name": "FloatProgressModel",
       "_view_count": null,
       "_view_module": "@jupyter-widgets/controls",
       "_view_module_version": "1.5.0",
       "_view_name": "ProgressView",
       "bar_style": "success",
       "description": "",
       "description_tooltip": null,
       "layout": "IPY_MODEL_dca3f5b955cf4953a5d778ec06e9f738",
       "max": 10,
       "min": 0,
       "orientation": "horizontal",
       "style": "IPY_MODEL_5676cae2892842129b3b7de99e67fd76",
       "value": 10
      }
     },
     "9507c41e87ec4a9d8539d89dac279d96": {
      "model_name": "LayoutModel",
      "model_module": "@jupyter-widgets/base",
      "model_module_version": "1.2.0",
      "state": {
       "_model_module": "@jupyter-widgets/base",
       "_model_module_version": "1.2.0",
       "_model_name": "LayoutModel",
       "_view_count": null,
       "_view_module": "@jupyter-widgets/base",
       "_view_module_version": "1.2.0",
       "_view_name": "LayoutView",
       "align_content": null,
       "align_items": null,
       "align_self": null,
       "border": null,
       "bottom": null,
       "display": null,
       "flex": null,
       "flex_flow": null,
       "grid_area": null,
       "grid_auto_columns": null,
       "grid_auto_flow": null,
       "grid_auto_rows": null,
       "grid_column": null,
       "grid_gap": null,
       "grid_row": null,
       "grid_template_areas": null,
       "grid_template_columns": null,
       "grid_template_rows": null,
       "height": null,
       "justify_content": null,
       "justify_items": null,
       "left": null,
       "margin": null,
       "max_height": null,
       "max_width": null,
       "min_height": null,
       "min_width": null,
       "object_fit": null,
       "object_position": null,
       "order": null,
       "overflow": null,
       "overflow_x": null,
       "overflow_y": null,
       "padding": null,
       "right": null,
       "top": null,
       "visibility": null,
       "width": null
      }
     },
     "da68db78422a47808acb3445885fc8b2": {
      "model_name": "DescriptionStyleModel",
      "model_module": "@jupyter-widgets/controls",
      "model_module_version": "1.5.0",
      "state": {
       "_model_module": "@jupyter-widgets/controls",
       "_model_module_version": "1.5.0",
       "_model_name": "DescriptionStyleModel",
       "_view_count": null,
       "_view_module": "@jupyter-widgets/base",
       "_view_module_version": "1.2.0",
       "_view_name": "StyleView",
       "description_width": ""
      }
     },
     "c51561c967ad48c6b8f11c430d376f6c": {
      "model_name": "HTMLModel",
      "model_module": "@jupyter-widgets/controls",
      "model_module_version": "1.5.0",
      "state": {
       "_dom_classes": [],
       "_model_module": "@jupyter-widgets/controls",
       "_model_module_version": "1.5.0",
       "_model_name": "HTMLModel",
       "_view_count": null,
       "_view_module": "@jupyter-widgets/controls",
       "_view_module_version": "1.5.0",
       "_view_name": "HTMLView",
       "description": "",
       "description_tooltip": null,
       "layout": "IPY_MODEL_9507c41e87ec4a9d8539d89dac279d96",
       "placeholder": "​",
       "style": "IPY_MODEL_da68db78422a47808acb3445885fc8b2",
       "value": "Generating for node: rating: 100%",
       "disabled": false
      }
     },
     "ad56a228d17d44afb80be619d3d185f4": {
      "model_name": "LayoutModel",
      "model_module": "@jupyter-widgets/base",
      "model_module_version": "1.2.0",
      "state": {
       "_model_module": "@jupyter-widgets/base",
       "_model_module_version": "1.2.0",
       "_model_name": "LayoutModel",
       "_view_count": null,
       "_view_module": "@jupyter-widgets/base",
       "_view_module_version": "1.2.0",
       "_view_name": "LayoutView",
       "align_content": null,
       "align_items": null,
       "align_self": null,
       "border": null,
       "bottom": null,
       "display": null,
       "flex": null,
       "flex_flow": null,
       "grid_area": null,
       "grid_auto_columns": null,
       "grid_auto_flow": null,
       "grid_auto_rows": null,
       "grid_column": null,
       "grid_gap": null,
       "grid_row": null,
       "grid_template_areas": null,
       "grid_template_columns": null,
       "grid_template_rows": null,
       "height": null,
       "justify_content": null,
       "justify_items": null,
       "left": null,
       "margin": null,
       "max_height": null,
       "max_width": null,
       "min_height": null,
       "min_width": null,
       "object_fit": null,
       "object_position": null,
       "order": null,
       "overflow": null,
       "overflow_x": null,
       "overflow_y": null,
       "padding": null,
       "right": null,
       "top": null,
       "visibility": null,
       "width": null
      }
     },
     "5e5848e7592f42fb9e93c41246744128": {
      "model_name": "DescriptionStyleModel",
      "model_module": "@jupyter-widgets/controls",
      "model_module_version": "1.5.0",
      "state": {
       "_model_module": "@jupyter-widgets/controls",
       "_model_module_version": "1.5.0",
       "_model_name": "DescriptionStyleModel",
       "_view_count": null,
       "_view_module": "@jupyter-widgets/base",
       "_view_module_version": "1.2.0",
       "_view_name": "StyleView",
       "description_width": ""
      }
     },
     "593e0fa88bca4b25b57cfb6c37e77644": {
      "model_name": "HTMLModel",
      "model_module": "@jupyter-widgets/controls",
      "model_module_version": "1.5.0",
      "state": {
       "_dom_classes": [],
       "_model_module": "@jupyter-widgets/controls",
       "_model_module_version": "1.5.0",
       "_model_name": "HTMLModel",
       "_view_count": null,
       "_view_module": "@jupyter-widgets/controls",
       "_view_module_version": "1.5.0",
       "_view_name": "HTMLView",
       "description": "",
       "description_tooltip": null,
       "layout": "IPY_MODEL_ad56a228d17d44afb80be619d3d185f4",
       "placeholder": "​",
       "style": "IPY_MODEL_5e5848e7592f42fb9e93c41246744128",
       "value": " 10/10 [00:00&lt;00:00, 128.85it/s]",
       "disabled": false
      }
     },
     "2445d629b9c3409a9a2348a5ebf1b612": {
      "model_name": "LayoutModel",
      "model_module": "@jupyter-widgets/base",
      "model_module_version": "1.2.0",
      "state": {
       "_model_module": "@jupyter-widgets/base",
       "_model_module_version": "1.2.0",
       "_model_name": "LayoutModel",
       "_view_count": null,
       "_view_module": "@jupyter-widgets/base",
       "_view_module_version": "1.2.0",
       "_view_name": "LayoutView",
       "align_content": null,
       "align_items": null,
       "align_self": null,
       "border": null,
       "bottom": null,
       "display": null,
       "flex": null,
       "flex_flow": null,
       "grid_area": null,
       "grid_auto_columns": null,
       "grid_auto_flow": null,
       "grid_auto_rows": null,
       "grid_column": null,
       "grid_gap": null,
       "grid_row": null,
       "grid_template_areas": null,
       "grid_template_columns": null,
       "grid_template_rows": null,
       "height": null,
       "justify_content": null,
       "justify_items": null,
       "left": null,
       "margin": null,
       "max_height": null,
       "max_width": null,
       "min_height": null,
       "min_width": null,
       "object_fit": null,
       "object_position": null,
       "order": null,
       "overflow": null,
       "overflow_x": null,
       "overflow_y": null,
       "padding": null,
       "right": null,
       "top": null,
       "visibility": null,
       "width": null
      }
     },
     "ddd0ad870e034c279eca55feeafe6804": {
      "model_name": "HBoxModel",
      "model_module": "@jupyter-widgets/controls",
      "model_module_version": "1.5.0",
      "state": {
       "_dom_classes": [],
       "_model_module": "@jupyter-widgets/controls",
       "_model_module_version": "1.5.0",
       "_model_name": "HBoxModel",
       "_view_count": null,
       "_view_module": "@jupyter-widgets/controls",
       "_view_module_version": "1.5.0",
       "_view_name": "HBoxView",
       "box_style": "",
       "children": [
        "IPY_MODEL_c51561c967ad48c6b8f11c430d376f6c",
        "IPY_MODEL_4f86603a545141e1aa758ba17322ba29",
        "IPY_MODEL_593e0fa88bca4b25b57cfb6c37e77644"
       ],
       "layout": "IPY_MODEL_2445d629b9c3409a9a2348a5ebf1b612"
      }
     },
     "37421cd296ff436cbd9cb16c974f3021": {
      "model_name": "LayoutModel",
      "model_module": "@jupyter-widgets/base",
      "model_module_version": "1.2.0",
      "state": {
       "_model_module": "@jupyter-widgets/base",
       "_model_module_version": "1.2.0",
       "_model_name": "LayoutModel",
       "_view_count": null,
       "_view_module": "@jupyter-widgets/base",
       "_view_module_version": "1.2.0",
       "_view_name": "LayoutView",
       "align_content": null,
       "align_items": null,
       "align_self": null,
       "border": null,
       "bottom": null,
       "display": null,
       "flex": null,
       "flex_flow": null,
       "grid_area": null,
       "grid_auto_columns": null,
       "grid_auto_flow": null,
       "grid_auto_rows": null,
       "grid_column": null,
       "grid_gap": null,
       "grid_row": null,
       "grid_template_areas": null,
       "grid_template_columns": null,
       "grid_template_rows": null,
       "height": null,
       "justify_content": null,
       "justify_items": null,
       "left": null,
       "margin": null,
       "max_height": null,
       "max_width": null,
       "min_height": null,
       "min_width": null,
       "object_fit": null,
       "object_position": null,
       "order": null,
       "overflow": null,
       "overflow_x": null,
       "overflow_y": null,
       "padding": null,
       "right": null,
       "top": null,
       "visibility": null,
       "width": null
      }
     },
     "9dbb0e6d8fc642de8de3620591fb5d93": {
      "model_name": "ProgressStyleModel",
      "model_module": "@jupyter-widgets/controls",
      "model_module_version": "1.5.0",
      "state": {
       "_model_module": "@jupyter-widgets/controls",
       "_model_module_version": "1.5.0",
       "_model_name": "ProgressStyleModel",
       "_view_count": null,
       "_view_module": "@jupyter-widgets/base",
       "_view_module_version": "1.2.0",
       "_view_name": "StyleView",
       "bar_color": null,
       "description_width": ""
      }
     },
     "ec64c21ac25d480cac58de9467e06048": {
      "model_name": "FloatProgressModel",
      "model_module": "@jupyter-widgets/controls",
      "model_module_version": "1.5.0",
      "state": {
       "_dom_classes": [],
       "_model_module": "@jupyter-widgets/controls",
       "_model_module_version": "1.5.0",
       "_model_name": "FloatProgressModel",
       "_view_count": null,
       "_view_module": "@jupyter-widgets/controls",
       "_view_module_version": "1.5.0",
       "_view_name": "ProgressView",
       "bar_style": "success",
       "description": "",
       "description_tooltip": null,
       "layout": "IPY_MODEL_37421cd296ff436cbd9cb16c974f3021",
       "max": 10,
       "min": 0,
       "orientation": "horizontal",
       "style": "IPY_MODEL_9dbb0e6d8fc642de8de3620591fb5d93",
       "value": 10
      }
     },
     "3213a572ee744c9089ecb2d649a21a0d": {
      "model_name": "LayoutModel",
      "model_module": "@jupyter-widgets/base",
      "model_module_version": "1.2.0",
      "state": {
       "_model_module": "@jupyter-widgets/base",
       "_model_module_version": "1.2.0",
       "_model_name": "LayoutModel",
       "_view_count": null,
       "_view_module": "@jupyter-widgets/base",
       "_view_module_version": "1.2.0",
       "_view_name": "LayoutView",
       "align_content": null,
       "align_items": null,
       "align_self": null,
       "border": null,
       "bottom": null,
       "display": null,
       "flex": null,
       "flex_flow": null,
       "grid_area": null,
       "grid_auto_columns": null,
       "grid_auto_flow": null,
       "grid_auto_rows": null,
       "grid_column": null,
       "grid_gap": null,
       "grid_row": null,
       "grid_template_areas": null,
       "grid_template_columns": null,
       "grid_template_rows": null,
       "height": null,
       "justify_content": null,
       "justify_items": null,
       "left": null,
       "margin": null,
       "max_height": null,
       "max_width": null,
       "min_height": null,
       "min_width": null,
       "object_fit": null,
       "object_position": null,
       "order": null,
       "overflow": null,
       "overflow_x": null,
       "overflow_y": null,
       "padding": null,
       "right": null,
       "top": null,
       "visibility": null,
       "width": null
      }
     },
     "53da5f2265734bfb9945bf1486a2a298": {
      "model_name": "DescriptionStyleModel",
      "model_module": "@jupyter-widgets/controls",
      "model_module_version": "1.5.0",
      "state": {
       "_model_module": "@jupyter-widgets/controls",
       "_model_module_version": "1.5.0",
       "_model_name": "DescriptionStyleModel",
       "_view_count": null,
       "_view_module": "@jupyter-widgets/base",
       "_view_module_version": "1.2.0",
       "_view_name": "StyleView",
       "description_width": ""
      }
     },
     "63dd39fa63694ff9979c7ce1be452f92": {
      "model_name": "HTMLModel",
      "model_module": "@jupyter-widgets/controls",
      "model_module_version": "1.5.0",
      "state": {
       "_dom_classes": [],
       "_model_module": "@jupyter-widgets/controls",
       "_model_module_version": "1.5.0",
       "_model_name": "HTMLModel",
       "_view_count": null,
       "_view_module": "@jupyter-widgets/controls",
       "_view_module_version": "1.5.0",
       "_view_name": "HTMLView",
       "description": "",
       "description_tooltip": null,
       "layout": "IPY_MODEL_3213a572ee744c9089ecb2d649a21a0d",
       "placeholder": "​",
       "style": "IPY_MODEL_53da5f2265734bfb9945bf1486a2a298",
       "value": "Generating for node: other_sales: 100%",
       "disabled": false
      }
     },
     "bfee6e0ee7ac40c0ae10d17ff01d3f4d": {
      "model_name": "LayoutModel",
      "model_module": "@jupyter-widgets/base",
      "model_module_version": "1.2.0",
      "state": {
       "_model_module": "@jupyter-widgets/base",
       "_model_module_version": "1.2.0",
       "_model_name": "LayoutModel",
       "_view_count": null,
       "_view_module": "@jupyter-widgets/base",
       "_view_module_version": "1.2.0",
       "_view_name": "LayoutView",
       "align_content": null,
       "align_items": null,
       "align_self": null,
       "border": null,
       "bottom": null,
       "display": null,
       "flex": null,
       "flex_flow": null,
       "grid_area": null,
       "grid_auto_columns": null,
       "grid_auto_flow": null,
       "grid_auto_rows": null,
       "grid_column": null,
       "grid_gap": null,
       "grid_row": null,
       "grid_template_areas": null,
       "grid_template_columns": null,
       "grid_template_rows": null,
       "height": null,
       "justify_content": null,
       "justify_items": null,
       "left": null,
       "margin": null,
       "max_height": null,
       "max_width": null,
       "min_height": null,
       "min_width": null,
       "object_fit": null,
       "object_position": null,
       "order": null,
       "overflow": null,
       "overflow_x": null,
       "overflow_y": null,
       "padding": null,
       "right": null,
       "top": null,
       "visibility": null,
       "width": null
      }
     },
     "638d6b5041f14795951e59e3080f4891": {
      "model_name": "DescriptionStyleModel",
      "model_module": "@jupyter-widgets/controls",
      "model_module_version": "1.5.0",
      "state": {
       "_model_module": "@jupyter-widgets/controls",
       "_model_module_version": "1.5.0",
       "_model_name": "DescriptionStyleModel",
       "_view_count": null,
       "_view_module": "@jupyter-widgets/base",
       "_view_module_version": "1.2.0",
       "_view_name": "StyleView",
       "description_width": ""
      }
     },
     "2eb6ba4492af4376b3c210a8a0ae16a6": {
      "model_name": "HTMLModel",
      "model_module": "@jupyter-widgets/controls",
      "model_module_version": "1.5.0",
      "state": {
       "_dom_classes": [],
       "_model_module": "@jupyter-widgets/controls",
       "_model_module_version": "1.5.0",
       "_model_name": "HTMLModel",
       "_view_count": null,
       "_view_module": "@jupyter-widgets/controls",
       "_view_module_version": "1.5.0",
       "_view_name": "HTMLView",
       "description": "",
       "description_tooltip": null,
       "layout": "IPY_MODEL_bfee6e0ee7ac40c0ae10d17ff01d3f4d",
       "placeholder": "​",
       "style": "IPY_MODEL_638d6b5041f14795951e59e3080f4891",
       "value": " 10/10 [00:00&lt;00:00, 159.62it/s]",
       "disabled": false
      }
     },
     "5f8c546679c54ae6b2e6539af19080b6": {
      "model_name": "LayoutModel",
      "model_module": "@jupyter-widgets/base",
      "model_module_version": "1.2.0",
      "state": {
       "_model_module": "@jupyter-widgets/base",
       "_model_module_version": "1.2.0",
       "_model_name": "LayoutModel",
       "_view_count": null,
       "_view_module": "@jupyter-widgets/base",
       "_view_module_version": "1.2.0",
       "_view_name": "LayoutView",
       "align_content": null,
       "align_items": null,
       "align_self": null,
       "border": null,
       "bottom": null,
       "display": null,
       "flex": null,
       "flex_flow": null,
       "grid_area": null,
       "grid_auto_columns": null,
       "grid_auto_flow": null,
       "grid_auto_rows": null,
       "grid_column": null,
       "grid_gap": null,
       "grid_row": null,
       "grid_template_areas": null,
       "grid_template_columns": null,
       "grid_template_rows": null,
       "height": null,
       "justify_content": null,
       "justify_items": null,
       "left": null,
       "margin": null,
       "max_height": null,
       "max_width": null,
       "min_height": null,
       "min_width": null,
       "object_fit": null,
       "object_position": null,
       "order": null,
       "overflow": null,
       "overflow_x": null,
       "overflow_y": null,
       "padding": null,
       "right": null,
       "top": null,
       "visibility": null,
       "width": null
      }
     },
     "78cdf0c513c44511b0e8f47d8086841b": {
      "model_name": "HBoxModel",
      "model_module": "@jupyter-widgets/controls",
      "model_module_version": "1.5.0",
      "state": {
       "_dom_classes": [],
       "_model_module": "@jupyter-widgets/controls",
       "_model_module_version": "1.5.0",
       "_model_name": "HBoxModel",
       "_view_count": null,
       "_view_module": "@jupyter-widgets/controls",
       "_view_module_version": "1.5.0",
       "_view_name": "HBoxView",
       "box_style": "",
       "children": [
        "IPY_MODEL_63dd39fa63694ff9979c7ce1be452f92",
        "IPY_MODEL_ec64c21ac25d480cac58de9467e06048",
        "IPY_MODEL_2eb6ba4492af4376b3c210a8a0ae16a6"
       ],
       "layout": "IPY_MODEL_5f8c546679c54ae6b2e6539af19080b6"
      }
     },
     "34f10c44c2a94e05bb12e1955af25e0c": {
      "model_name": "LayoutModel",
      "model_module": "@jupyter-widgets/base",
      "model_module_version": "1.2.0",
      "state": {
       "_model_module": "@jupyter-widgets/base",
       "_model_module_version": "1.2.0",
       "_model_name": "LayoutModel",
       "_view_count": null,
       "_view_module": "@jupyter-widgets/base",
       "_view_module_version": "1.2.0",
       "_view_name": "LayoutView",
       "align_content": null,
       "align_items": null,
       "align_self": null,
       "border": null,
       "bottom": null,
       "display": null,
       "flex": null,
       "flex_flow": null,
       "grid_area": null,
       "grid_auto_columns": null,
       "grid_auto_flow": null,
       "grid_auto_rows": null,
       "grid_column": null,
       "grid_gap": null,
       "grid_row": null,
       "grid_template_areas": null,
       "grid_template_columns": null,
       "grid_template_rows": null,
       "height": null,
       "justify_content": null,
       "justify_items": null,
       "left": null,
       "margin": null,
       "max_height": null,
       "max_width": null,
       "min_height": null,
       "min_width": null,
       "object_fit": null,
       "object_position": null,
       "order": null,
       "overflow": null,
       "overflow_x": null,
       "overflow_y": null,
       "padding": null,
       "right": null,
       "top": null,
       "visibility": null,
       "width": null
      }
     },
     "4c482166ea1442b9b8c60e8f2dbcece6": {
      "model_name": "ProgressStyleModel",
      "model_module": "@jupyter-widgets/controls",
      "model_module_version": "1.5.0",
      "state": {
       "_model_module": "@jupyter-widgets/controls",
       "_model_module_version": "1.5.0",
       "_model_name": "ProgressStyleModel",
       "_view_count": null,
       "_view_module": "@jupyter-widgets/base",
       "_view_module_version": "1.2.0",
       "_view_name": "StyleView",
       "bar_color": null,
       "description_width": ""
      }
     },
     "798ee139bfd74936a1f84ea44826abc7": {
      "model_name": "FloatProgressModel",
      "model_module": "@jupyter-widgets/controls",
      "model_module_version": "1.5.0",
      "state": {
       "_dom_classes": [],
       "_model_module": "@jupyter-widgets/controls",
       "_model_module_version": "1.5.0",
       "_model_name": "FloatProgressModel",
       "_view_count": null,
       "_view_module": "@jupyter-widgets/controls",
       "_view_module_version": "1.5.0",
       "_view_name": "ProgressView",
       "bar_style": "success",
       "description": "",
       "description_tooltip": null,
       "layout": "IPY_MODEL_34f10c44c2a94e05bb12e1955af25e0c",
       "max": 10,
       "min": 0,
       "orientation": "horizontal",
       "style": "IPY_MODEL_4c482166ea1442b9b8c60e8f2dbcece6",
       "value": 10
      }
     },
     "5e1c5eb30a744aac92be08fdb938e5da": {
      "model_name": "LayoutModel",
      "model_module": "@jupyter-widgets/base",
      "model_module_version": "1.2.0",
      "state": {
       "_model_module": "@jupyter-widgets/base",
       "_model_module_version": "1.2.0",
       "_model_name": "LayoutModel",
       "_view_count": null,
       "_view_module": "@jupyter-widgets/base",
       "_view_module_version": "1.2.0",
       "_view_name": "LayoutView",
       "align_content": null,
       "align_items": null,
       "align_self": null,
       "border": null,
       "bottom": null,
       "display": null,
       "flex": null,
       "flex_flow": null,
       "grid_area": null,
       "grid_auto_columns": null,
       "grid_auto_flow": null,
       "grid_auto_rows": null,
       "grid_column": null,
       "grid_gap": null,
       "grid_row": null,
       "grid_template_areas": null,
       "grid_template_columns": null,
       "grid_template_rows": null,
       "height": null,
       "justify_content": null,
       "justify_items": null,
       "left": null,
       "margin": null,
       "max_height": null,
       "max_width": null,
       "min_height": null,
       "min_width": null,
       "object_fit": null,
       "object_position": null,
       "order": null,
       "overflow": null,
       "overflow_x": null,
       "overflow_y": null,
       "padding": null,
       "right": null,
       "top": null,
       "visibility": null,
       "width": null
      }
     },
     "aa59c63ceefa4becbeb0195c66c91081": {
      "model_name": "DescriptionStyleModel",
      "model_module": "@jupyter-widgets/controls",
      "model_module_version": "1.5.0",
      "state": {
       "_model_module": "@jupyter-widgets/controls",
       "_model_module_version": "1.5.0",
       "_model_name": "DescriptionStyleModel",
       "_view_count": null,
       "_view_module": "@jupyter-widgets/base",
       "_view_module_version": "1.2.0",
       "_view_name": "StyleView",
       "description_width": ""
      }
     },
     "6dfe3cff22c040aab6ff29d23bbb7d10": {
      "model_name": "HTMLModel",
      "model_module": "@jupyter-widgets/controls",
      "model_module_version": "1.5.0",
      "state": {
       "_dom_classes": [],
       "_model_module": "@jupyter-widgets/controls",
       "_model_module_version": "1.5.0",
       "_model_name": "HTMLModel",
       "_view_count": null,
       "_view_module": "@jupyter-widgets/controls",
       "_view_module_version": "1.5.0",
       "_view_name": "HTMLView",
       "description": "",
       "description_tooltip": null,
       "layout": "IPY_MODEL_5e1c5eb30a744aac92be08fdb938e5da",
       "placeholder": "​",
       "style": "IPY_MODEL_aa59c63ceefa4becbeb0195c66c91081",
       "value": "Generating for node: critic_score: 100%",
       "disabled": false
      }
     },
     "a153d39c991c4fa0b52782806d798924": {
      "model_name": "LayoutModel",
      "model_module": "@jupyter-widgets/base",
      "model_module_version": "1.2.0",
      "state": {
       "_model_module": "@jupyter-widgets/base",
       "_model_module_version": "1.2.0",
       "_model_name": "LayoutModel",
       "_view_count": null,
       "_view_module": "@jupyter-widgets/base",
       "_view_module_version": "1.2.0",
       "_view_name": "LayoutView",
       "align_content": null,
       "align_items": null,
       "align_self": null,
       "border": null,
       "bottom": null,
       "display": null,
       "flex": null,
       "flex_flow": null,
       "grid_area": null,
       "grid_auto_columns": null,
       "grid_auto_flow": null,
       "grid_auto_rows": null,
       "grid_column": null,
       "grid_gap": null,
       "grid_row": null,
       "grid_template_areas": null,
       "grid_template_columns": null,
       "grid_template_rows": null,
       "height": null,
       "justify_content": null,
       "justify_items": null,
       "left": null,
       "margin": null,
       "max_height": null,
       "max_width": null,
       "min_height": null,
       "min_width": null,
       "object_fit": null,
       "object_position": null,
       "order": null,
       "overflow": null,
       "overflow_x": null,
       "overflow_y": null,
       "padding": null,
       "right": null,
       "top": null,
       "visibility": null,
       "width": null
      }
     },
     "05f53f1f6e924895b59b294ab3f32210": {
      "model_name": "DescriptionStyleModel",
      "model_module": "@jupyter-widgets/controls",
      "model_module_version": "1.5.0",
      "state": {
       "_model_module": "@jupyter-widgets/controls",
       "_model_module_version": "1.5.0",
       "_model_name": "DescriptionStyleModel",
       "_view_count": null,
       "_view_module": "@jupyter-widgets/base",
       "_view_module_version": "1.2.0",
       "_view_name": "StyleView",
       "description_width": ""
      }
     },
     "2c966d91d5c145e4bc7f7f3d0eb7a191": {
      "model_name": "HTMLModel",
      "model_module": "@jupyter-widgets/controls",
      "model_module_version": "1.5.0",
      "state": {
       "_dom_classes": [],
       "_model_module": "@jupyter-widgets/controls",
       "_model_module_version": "1.5.0",
       "_model_name": "HTMLModel",
       "_view_count": null,
       "_view_module": "@jupyter-widgets/controls",
       "_view_module_version": "1.5.0",
       "_view_name": "HTMLView",
       "description": "",
       "description_tooltip": null,
       "layout": "IPY_MODEL_a153d39c991c4fa0b52782806d798924",
       "placeholder": "​",
       "style": "IPY_MODEL_05f53f1f6e924895b59b294ab3f32210",
       "value": " 10/10 [00:00&lt;00:00, 123.34it/s]",
       "disabled": false
      }
     },
     "3408e77baf824e23b85b76592c874357": {
      "model_name": "LayoutModel",
      "model_module": "@jupyter-widgets/base",
      "model_module_version": "1.2.0",
      "state": {
       "_model_module": "@jupyter-widgets/base",
       "_model_module_version": "1.2.0",
       "_model_name": "LayoutModel",
       "_view_count": null,
       "_view_module": "@jupyter-widgets/base",
       "_view_module_version": "1.2.0",
       "_view_name": "LayoutView",
       "align_content": null,
       "align_items": null,
       "align_self": null,
       "border": null,
       "bottom": null,
       "display": null,
       "flex": null,
       "flex_flow": null,
       "grid_area": null,
       "grid_auto_columns": null,
       "grid_auto_flow": null,
       "grid_auto_rows": null,
       "grid_column": null,
       "grid_gap": null,
       "grid_row": null,
       "grid_template_areas": null,
       "grid_template_columns": null,
       "grid_template_rows": null,
       "height": null,
       "justify_content": null,
       "justify_items": null,
       "left": null,
       "margin": null,
       "max_height": null,
       "max_width": null,
       "min_height": null,
       "min_width": null,
       "object_fit": null,
       "object_position": null,
       "order": null,
       "overflow": null,
       "overflow_x": null,
       "overflow_y": null,
       "padding": null,
       "right": null,
       "top": null,
       "visibility": null,
       "width": null
      }
     },
     "7160c3528d2849f5a8a40d072d717aeb": {
      "model_name": "HBoxModel",
      "model_module": "@jupyter-widgets/controls",
      "model_module_version": "1.5.0",
      "state": {
       "_dom_classes": [],
       "_model_module": "@jupyter-widgets/controls",
       "_model_module_version": "1.5.0",
       "_model_name": "HBoxModel",
       "_view_count": null,
       "_view_module": "@jupyter-widgets/controls",
       "_view_module_version": "1.5.0",
       "_view_name": "HBoxView",
       "box_style": "",
       "children": [
        "IPY_MODEL_6dfe3cff22c040aab6ff29d23bbb7d10",
        "IPY_MODEL_798ee139bfd74936a1f84ea44826abc7",
        "IPY_MODEL_2c966d91d5c145e4bc7f7f3d0eb7a191"
       ],
       "layout": "IPY_MODEL_3408e77baf824e23b85b76592c874357"
      }
     },
     "c311be5bd8344a8f96690e610d46c123": {
      "model_name": "LayoutModel",
      "model_module": "@jupyter-widgets/base",
      "model_module_version": "1.2.0",
      "state": {
       "_model_module": "@jupyter-widgets/base",
       "_model_module_version": "1.2.0",
       "_model_name": "LayoutModel",
       "_view_count": null,
       "_view_module": "@jupyter-widgets/base",
       "_view_module_version": "1.2.0",
       "_view_name": "LayoutView",
       "align_content": null,
       "align_items": null,
       "align_self": null,
       "border": null,
       "bottom": null,
       "display": null,
       "flex": null,
       "flex_flow": null,
       "grid_area": null,
       "grid_auto_columns": null,
       "grid_auto_flow": null,
       "grid_auto_rows": null,
       "grid_column": null,
       "grid_gap": null,
       "grid_row": null,
       "grid_template_areas": null,
       "grid_template_columns": null,
       "grid_template_rows": null,
       "height": null,
       "justify_content": null,
       "justify_items": null,
       "left": null,
       "margin": null,
       "max_height": null,
       "max_width": null,
       "min_height": null,
       "min_width": null,
       "object_fit": null,
       "object_position": null,
       "order": null,
       "overflow": null,
       "overflow_x": null,
       "overflow_y": null,
       "padding": null,
       "right": null,
       "top": null,
       "visibility": null,
       "width": null
      }
     },
     "6a2d345cc1594798922b4090a6493295": {
      "model_name": "ProgressStyleModel",
      "model_module": "@jupyter-widgets/controls",
      "model_module_version": "1.5.0",
      "state": {
       "_model_module": "@jupyter-widgets/controls",
       "_model_module_version": "1.5.0",
       "_model_name": "ProgressStyleModel",
       "_view_count": null,
       "_view_module": "@jupyter-widgets/base",
       "_view_module_version": "1.2.0",
       "_view_name": "StyleView",
       "bar_color": null,
       "description_width": ""
      }
     },
     "dc6bb0bc2d99476b852c12a8925add20": {
      "model_name": "FloatProgressModel",
      "model_module": "@jupyter-widgets/controls",
      "model_module_version": "1.5.0",
      "state": {
       "_dom_classes": [],
       "_model_module": "@jupyter-widgets/controls",
       "_model_module_version": "1.5.0",
       "_model_name": "FloatProgressModel",
       "_view_count": null,
       "_view_module": "@jupyter-widgets/controls",
       "_view_module_version": "1.5.0",
       "_view_name": "ProgressView",
       "bar_style": "success",
       "description": "",
       "description_tooltip": null,
       "layout": "IPY_MODEL_c311be5bd8344a8f96690e610d46c123",
       "max": 7,
       "min": 0,
       "orientation": "horizontal",
       "style": "IPY_MODEL_6a2d345cc1594798922b4090a6493295",
       "value": 7
      }
     },
     "14a8d63666754bd090548532650b7de3": {
      "model_name": "LayoutModel",
      "model_module": "@jupyter-widgets/base",
      "model_module_version": "1.2.0",
      "state": {
       "_model_module": "@jupyter-widgets/base",
       "_model_module_version": "1.2.0",
       "_model_name": "LayoutModel",
       "_view_count": null,
       "_view_module": "@jupyter-widgets/base",
       "_view_module_version": "1.2.0",
       "_view_name": "LayoutView",
       "align_content": null,
       "align_items": null,
       "align_self": null,
       "border": null,
       "bottom": null,
       "display": null,
       "flex": null,
       "flex_flow": null,
       "grid_area": null,
       "grid_auto_columns": null,
       "grid_auto_flow": null,
       "grid_auto_rows": null,
       "grid_column": null,
       "grid_gap": null,
       "grid_row": null,
       "grid_template_areas": null,
       "grid_template_columns": null,
       "grid_template_rows": null,
       "height": null,
       "justify_content": null,
       "justify_items": null,
       "left": null,
       "margin": null,
       "max_height": null,
       "max_width": null,
       "min_height": null,
       "min_width": null,
       "object_fit": null,
       "object_position": null,
       "order": null,
       "overflow": null,
       "overflow_x": null,
       "overflow_y": null,
       "padding": null,
       "right": null,
       "top": null,
       "visibility": null,
       "width": null
      }
     },
     "2bc998397ce9408a817b7ec702a91931": {
      "model_name": "DescriptionStyleModel",
      "model_module": "@jupyter-widgets/controls",
      "model_module_version": "1.5.0",
      "state": {
       "_model_module": "@jupyter-widgets/controls",
       "_model_module_version": "1.5.0",
       "_model_name": "DescriptionStyleModel",
       "_view_count": null,
       "_view_module": "@jupyter-widgets/base",
       "_view_module_version": "1.2.0",
       "_view_name": "StyleView",
       "description_width": ""
      }
     },
     "9b5fc8c5953444b6ac8c8dfcf84b8d59": {
      "model_name": "HTMLModel",
      "model_module": "@jupyter-widgets/controls",
      "model_module_version": "1.5.0",
      "state": {
       "_dom_classes": [],
       "_model_module": "@jupyter-widgets/controls",
       "_model_module_version": "1.5.0",
       "_model_name": "HTMLModel",
       "_view_count": null,
       "_view_module": "@jupyter-widgets/controls",
       "_view_module_version": "1.5.0",
       "_view_name": "HTMLView",
       "description": "",
       "description_tooltip": null,
       "layout": "IPY_MODEL_14a8d63666754bd090548532650b7de3",
       "placeholder": "​",
       "style": "IPY_MODEL_2bc998397ce9408a817b7ec702a91931",
       "value": "Generating for node: critic_score: 100%",
       "disabled": false
      }
     },
     "50907e2e34c64a49b93aef175f52d62a": {
      "model_name": "LayoutModel",
      "model_module": "@jupyter-widgets/base",
      "model_module_version": "1.2.0",
      "state": {
       "_model_module": "@jupyter-widgets/base",
       "_model_module_version": "1.2.0",
       "_model_name": "LayoutModel",
       "_view_count": null,
       "_view_module": "@jupyter-widgets/base",
       "_view_module_version": "1.2.0",
       "_view_name": "LayoutView",
       "align_content": null,
       "align_items": null,
       "align_self": null,
       "border": null,
       "bottom": null,
       "display": null,
       "flex": null,
       "flex_flow": null,
       "grid_area": null,
       "grid_auto_columns": null,
       "grid_auto_flow": null,
       "grid_auto_rows": null,
       "grid_column": null,
       "grid_gap": null,
       "grid_row": null,
       "grid_template_areas": null,
       "grid_template_columns": null,
       "grid_template_rows": null,
       "height": null,
       "justify_content": null,
       "justify_items": null,
       "left": null,
       "margin": null,
       "max_height": null,
       "max_width": null,
       "min_height": null,
       "min_width": null,
       "object_fit": null,
       "object_position": null,
       "order": null,
       "overflow": null,
       "overflow_x": null,
       "overflow_y": null,
       "padding": null,
       "right": null,
       "top": null,
       "visibility": null,
       "width": null
      }
     },
     "d4a8a64f3c40419885f70a129e6c9883": {
      "model_name": "DescriptionStyleModel",
      "model_module": "@jupyter-widgets/controls",
      "model_module_version": "1.5.0",
      "state": {
       "_model_module": "@jupyter-widgets/controls",
       "_model_module_version": "1.5.0",
       "_model_name": "DescriptionStyleModel",
       "_view_count": null,
       "_view_module": "@jupyter-widgets/base",
       "_view_module_version": "1.2.0",
       "_view_name": "StyleView",
       "description_width": ""
      }
     },
     "861364fa56374f898b0a51542e239767": {
      "model_name": "HTMLModel",
      "model_module": "@jupyter-widgets/controls",
      "model_module_version": "1.5.0",
      "state": {
       "_dom_classes": [],
       "_model_module": "@jupyter-widgets/controls",
       "_model_module_version": "1.5.0",
       "_model_name": "HTMLModel",
       "_view_count": null,
       "_view_module": "@jupyter-widgets/controls",
       "_view_module_version": "1.5.0",
       "_view_name": "HTMLView",
       "description": "",
       "description_tooltip": null,
       "layout": "IPY_MODEL_50907e2e34c64a49b93aef175f52d62a",
       "placeholder": "​",
       "style": "IPY_MODEL_d4a8a64f3c40419885f70a129e6c9883",
       "value": " 7/7 [00:00&lt;00:00, 88.94it/s]",
       "disabled": false
      }
     },
     "7a8a8c347f7149b0a911c70dc30c6d41": {
      "model_name": "LayoutModel",
      "model_module": "@jupyter-widgets/base",
      "model_module_version": "1.2.0",
      "state": {
       "_model_module": "@jupyter-widgets/base",
       "_model_module_version": "1.2.0",
       "_model_name": "LayoutModel",
       "_view_count": null,
       "_view_module": "@jupyter-widgets/base",
       "_view_module_version": "1.2.0",
       "_view_name": "LayoutView",
       "align_content": null,
       "align_items": null,
       "align_self": null,
       "border": null,
       "bottom": null,
       "display": null,
       "flex": null,
       "flex_flow": null,
       "grid_area": null,
       "grid_auto_columns": null,
       "grid_auto_flow": null,
       "grid_auto_rows": null,
       "grid_column": null,
       "grid_gap": null,
       "grid_row": null,
       "grid_template_areas": null,
       "grid_template_columns": null,
       "grid_template_rows": null,
       "height": null,
       "justify_content": null,
       "justify_items": null,
       "left": null,
       "margin": null,
       "max_height": null,
       "max_width": null,
       "min_height": null,
       "min_width": null,
       "object_fit": null,
       "object_position": null,
       "order": null,
       "overflow": null,
       "overflow_x": null,
       "overflow_y": null,
       "padding": null,
       "right": null,
       "top": null,
       "visibility": null,
       "width": null
      }
     },
     "46255f988511476fb42d7b24931c34b7": {
      "model_name": "HBoxModel",
      "model_module": "@jupyter-widgets/controls",
      "model_module_version": "1.5.0",
      "state": {
       "_dom_classes": [],
       "_model_module": "@jupyter-widgets/controls",
       "_model_module_version": "1.5.0",
       "_model_name": "HBoxModel",
       "_view_count": null,
       "_view_module": "@jupyter-widgets/controls",
       "_view_module_version": "1.5.0",
       "_view_name": "HBoxView",
       "box_style": "",
       "children": [
        "IPY_MODEL_9b5fc8c5953444b6ac8c8dfcf84b8d59",
        "IPY_MODEL_dc6bb0bc2d99476b852c12a8925add20",
        "IPY_MODEL_861364fa56374f898b0a51542e239767"
       ],
       "layout": "IPY_MODEL_7a8a8c347f7149b0a911c70dc30c6d41"
      }
     },
     "bd4d592ba5654e99828587886fd9dfb7": {
      "model_name": "LayoutModel",
      "model_module": "@jupyter-widgets/base",
      "model_module_version": "1.2.0",
      "state": {
       "_model_module": "@jupyter-widgets/base",
       "_model_module_version": "1.2.0",
       "_model_name": "LayoutModel",
       "_view_count": null,
       "_view_module": "@jupyter-widgets/base",
       "_view_module_version": "1.2.0",
       "_view_name": "LayoutView",
       "align_content": null,
       "align_items": null,
       "align_self": null,
       "border": null,
       "bottom": null,
       "display": null,
       "flex": null,
       "flex_flow": null,
       "grid_area": null,
       "grid_auto_columns": null,
       "grid_auto_flow": null,
       "grid_auto_rows": null,
       "grid_column": null,
       "grid_gap": null,
       "grid_row": null,
       "grid_template_areas": null,
       "grid_template_columns": null,
       "grid_template_rows": null,
       "height": null,
       "justify_content": null,
       "justify_items": null,
       "left": null,
       "margin": null,
       "max_height": null,
       "max_width": null,
       "min_height": null,
       "min_width": null,
       "object_fit": null,
       "object_position": null,
       "order": null,
       "overflow": null,
       "overflow_x": null,
       "overflow_y": null,
       "padding": null,
       "right": null,
       "top": null,
       "visibility": null,
       "width": null
      }
     },
     "78b4c62b4de44cb0b97471f779c2c616": {
      "model_name": "ProgressStyleModel",
      "model_module": "@jupyter-widgets/controls",
      "model_module_version": "1.5.0",
      "state": {
       "_model_module": "@jupyter-widgets/controls",
       "_model_module_version": "1.5.0",
       "_model_name": "ProgressStyleModel",
       "_view_count": null,
       "_view_module": "@jupyter-widgets/base",
       "_view_module_version": "1.2.0",
       "_view_name": "StyleView",
       "bar_color": null,
       "description_width": ""
      }
     },
     "5e866e9a8e73425a9b3dd681a050b163": {
      "model_name": "FloatProgressModel",
      "model_module": "@jupyter-widgets/controls",
      "model_module_version": "1.5.0",
      "state": {
       "_dom_classes": [],
       "_model_module": "@jupyter-widgets/controls",
       "_model_module_version": "1.5.0",
       "_model_name": "FloatProgressModel",
       "_view_count": null,
       "_view_module": "@jupyter-widgets/controls",
       "_view_module_version": "1.5.0",
       "_view_name": "ProgressView",
       "bar_style": "success",
       "description": "",
       "description_tooltip": null,
       "layout": "IPY_MODEL_bd4d592ba5654e99828587886fd9dfb7",
       "max": 10,
       "min": 0,
       "orientation": "horizontal",
       "style": "IPY_MODEL_78b4c62b4de44cb0b97471f779c2c616",
       "value": 10
      }
     },
     "2fee327bbac647e2a1d1de0c538f2933": {
      "model_name": "LayoutModel",
      "model_module": "@jupyter-widgets/base",
      "model_module_version": "1.2.0",
      "state": {
       "_model_module": "@jupyter-widgets/base",
       "_model_module_version": "1.2.0",
       "_model_name": "LayoutModel",
       "_view_count": null,
       "_view_module": "@jupyter-widgets/base",
       "_view_module_version": "1.2.0",
       "_view_name": "LayoutView",
       "align_content": null,
       "align_items": null,
       "align_self": null,
       "border": null,
       "bottom": null,
       "display": null,
       "flex": null,
       "flex_flow": null,
       "grid_area": null,
       "grid_auto_columns": null,
       "grid_auto_flow": null,
       "grid_auto_rows": null,
       "grid_column": null,
       "grid_gap": null,
       "grid_row": null,
       "grid_template_areas": null,
       "grid_template_columns": null,
       "grid_template_rows": null,
       "height": null,
       "justify_content": null,
       "justify_items": null,
       "left": null,
       "margin": null,
       "max_height": null,
       "max_width": null,
       "min_height": null,
       "min_width": null,
       "object_fit": null,
       "object_position": null,
       "order": null,
       "overflow": null,
       "overflow_x": null,
       "overflow_y": null,
       "padding": null,
       "right": null,
       "top": null,
       "visibility": null,
       "width": null
      }
     },
     "2213be2951db4a9ab9e2fe732b07a72e": {
      "model_name": "DescriptionStyleModel",
      "model_module": "@jupyter-widgets/controls",
      "model_module_version": "1.5.0",
      "state": {
       "_model_module": "@jupyter-widgets/controls",
       "_model_module_version": "1.5.0",
       "_model_name": "DescriptionStyleModel",
       "_view_count": null,
       "_view_module": "@jupyter-widgets/base",
       "_view_module_version": "1.2.0",
       "_view_name": "StyleView",
       "description_width": ""
      }
     },
     "ae87b0db421e4caaa8e7e12f52b89c73": {
      "model_name": "HTMLModel",
      "model_module": "@jupyter-widgets/controls",
      "model_module_version": "1.5.0",
      "state": {
       "_dom_classes": [],
       "_model_module": "@jupyter-widgets/controls",
       "_model_module_version": "1.5.0",
       "_model_name": "HTMLModel",
       "_view_count": null,
       "_view_module": "@jupyter-widgets/controls",
       "_view_module_version": "1.5.0",
       "_view_name": "HTMLView",
       "description": "",
       "description_tooltip": null,
       "layout": "IPY_MODEL_2fee327bbac647e2a1d1de0c538f2933",
       "placeholder": "​",
       "style": "IPY_MODEL_2213be2951db4a9ab9e2fe732b07a72e",
       "value": "Generating for node: other_sales: 100%",
       "disabled": false
      }
     },
     "ecdf8e66a8c84f4398e4e475dc471e8f": {
      "model_name": "LayoutModel",
      "model_module": "@jupyter-widgets/base",
      "model_module_version": "1.2.0",
      "state": {
       "_model_module": "@jupyter-widgets/base",
       "_model_module_version": "1.2.0",
       "_model_name": "LayoutModel",
       "_view_count": null,
       "_view_module": "@jupyter-widgets/base",
       "_view_module_version": "1.2.0",
       "_view_name": "LayoutView",
       "align_content": null,
       "align_items": null,
       "align_self": null,
       "border": null,
       "bottom": null,
       "display": null,
       "flex": null,
       "flex_flow": null,
       "grid_area": null,
       "grid_auto_columns": null,
       "grid_auto_flow": null,
       "grid_auto_rows": null,
       "grid_column": null,
       "grid_gap": null,
       "grid_row": null,
       "grid_template_areas": null,
       "grid_template_columns": null,
       "grid_template_rows": null,
       "height": null,
       "justify_content": null,
       "justify_items": null,
       "left": null,
       "margin": null,
       "max_height": null,
       "max_width": null,
       "min_height": null,
       "min_width": null,
       "object_fit": null,
       "object_position": null,
       "order": null,
       "overflow": null,
       "overflow_x": null,
       "overflow_y": null,
       "padding": null,
       "right": null,
       "top": null,
       "visibility": null,
       "width": null
      }
     },
     "92e83051bb994426a2726003f6a5f9cc": {
      "model_name": "DescriptionStyleModel",
      "model_module": "@jupyter-widgets/controls",
      "model_module_version": "1.5.0",
      "state": {
       "_model_module": "@jupyter-widgets/controls",
       "_model_module_version": "1.5.0",
       "_model_name": "DescriptionStyleModel",
       "_view_count": null,
       "_view_module": "@jupyter-widgets/base",
       "_view_module_version": "1.2.0",
       "_view_name": "StyleView",
       "description_width": ""
      }
     },
     "a9d43411d96143aa9c71b9a560e45548": {
      "model_name": "HTMLModel",
      "model_module": "@jupyter-widgets/controls",
      "model_module_version": "1.5.0",
      "state": {
       "_dom_classes": [],
       "_model_module": "@jupyter-widgets/controls",
       "_model_module_version": "1.5.0",
       "_model_name": "HTMLModel",
       "_view_count": null,
       "_view_module": "@jupyter-widgets/controls",
       "_view_module_version": "1.5.0",
       "_view_name": "HTMLView",
       "description": "",
       "description_tooltip": null,
       "layout": "IPY_MODEL_ecdf8e66a8c84f4398e4e475dc471e8f",
       "placeholder": "​",
       "style": "IPY_MODEL_92e83051bb994426a2726003f6a5f9cc",
       "value": " 10/10 [00:00&lt;00:00, 151.37it/s]",
       "disabled": false
      }
     },
     "31817237d70e41d0a39a383528a4964f": {
      "model_name": "LayoutModel",
      "model_module": "@jupyter-widgets/base",
      "model_module_version": "1.2.0",
      "state": {
       "_model_module": "@jupyter-widgets/base",
       "_model_module_version": "1.2.0",
       "_model_name": "LayoutModel",
       "_view_count": null,
       "_view_module": "@jupyter-widgets/base",
       "_view_module_version": "1.2.0",
       "_view_name": "LayoutView",
       "align_content": null,
       "align_items": null,
       "align_self": null,
       "border": null,
       "bottom": null,
       "display": null,
       "flex": null,
       "flex_flow": null,
       "grid_area": null,
       "grid_auto_columns": null,
       "grid_auto_flow": null,
       "grid_auto_rows": null,
       "grid_column": null,
       "grid_gap": null,
       "grid_row": null,
       "grid_template_areas": null,
       "grid_template_columns": null,
       "grid_template_rows": null,
       "height": null,
       "justify_content": null,
       "justify_items": null,
       "left": null,
       "margin": null,
       "max_height": null,
       "max_width": null,
       "min_height": null,
       "min_width": null,
       "object_fit": null,
       "object_position": null,
       "order": null,
       "overflow": null,
       "overflow_x": null,
       "overflow_y": null,
       "padding": null,
       "right": null,
       "top": null,
       "visibility": null,
       "width": null
      }
     },
     "45f689facaea4c7fb3ef021e1451d46c": {
      "model_name": "HBoxModel",
      "model_module": "@jupyter-widgets/controls",
      "model_module_version": "1.5.0",
      "state": {
       "_dom_classes": [],
       "_model_module": "@jupyter-widgets/controls",
       "_model_module_version": "1.5.0",
       "_model_name": "HBoxModel",
       "_view_count": null,
       "_view_module": "@jupyter-widgets/controls",
       "_view_module_version": "1.5.0",
       "_view_name": "HBoxView",
       "box_style": "",
       "children": [
        "IPY_MODEL_ae87b0db421e4caaa8e7e12f52b89c73",
        "IPY_MODEL_5e866e9a8e73425a9b3dd681a050b163",
        "IPY_MODEL_a9d43411d96143aa9c71b9a560e45548"
       ],
       "layout": "IPY_MODEL_31817237d70e41d0a39a383528a4964f"
      }
     }
    }
   }
  },
  "kernelspec": {
   "display_name": "Python",
   "language": "python",
   "name": "python"
  },
  "datalore": {
   "version": 1,
   "computation_mode": "JUPYTER",
   "package_manager": "pip",
   "base_environment": "default",
   "packages": [
    {
     "name": "pgmpy",
     "source": "PIP"
    },
    {
     "name": "BAMT",
     "version": "master",
     "url": "https://github.com/ITMO-NSS-team/BAMT.git@master",
     "source": "GIT"
    }
   ]
  }
 },
 "nbformat": 4,
 "nbformat_minor": 4
}
